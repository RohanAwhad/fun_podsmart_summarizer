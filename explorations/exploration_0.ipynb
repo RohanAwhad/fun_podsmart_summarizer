{
 "cells": [
  {
   "cell_type": "code",
   "execution_count": 4,
   "metadata": {},
   "outputs": [],
   "source": [
    "import numpy as np\n",
    "import pandas as pd\n",
    "import pickle\n",
    "import plotly.graph_objects as go\n",
    "\n",
    "from pydantic import BaseModel\n",
    "from typing import List, Dict"
   ]
  },
  {
   "cell_type": "code",
   "execution_count": 3,
   "metadata": {},
   "outputs": [],
   "source": [
    "class MainOut(BaseModel):\n",
    "  stage_1_outputs: List[Dict[str, str]]\n",
    "  stage_2_outputs: List[Dict[str, str]]\n",
    "  final_summary: str\n",
    "  markdown_summary: str\n",
    "  summary_similarity_matrix: np.ndarray\n",
    "  chunk_topics: List[int]\n",
    "\n",
    "  class Config:\n",
    "    arbitrary_types_allowed = True"
   ]
  },
  {
   "cell_type": "code",
   "execution_count": 9,
   "metadata": {},
   "outputs": [],
   "source": [
    "import aiohttp\n",
    "import asyncio\n",
    "import torch\n",
    "\n",
    "from loguru import logger\n",
    "from tqdm import tqdm\n",
    "from typing import Union, List\n",
    "\n",
    "\n",
    "url = \"https://fun-sentence-embedder-c8f3c4818216.herokuapp.com\"\n",
    "\n",
    "\n",
    "def init(): pass\n",
    "\n",
    "class _Encoder:\n",
    "  def __init__(\n",
    "    self,\n",
    "    url,\n",
    "    session: aiohttp.ClientSession,\n",
    "    text_list: List[str],\n",
    "    batch_size: int=8,\n",
    "    num_workers: int=8\n",
    "  ):\n",
    "\n",
    "    self.url = url\n",
    "    self.session = session\n",
    "    self.text_list = text_list\n",
    "    self.batch_size = batch_size\n",
    "    self.num_workers = num_workers\n",
    "    self.pbar = tqdm(total=len(text_list) // batch_size, desc=\"Encoding\")\n",
    "\n",
    "    self._todo = asyncio.Queue()\n",
    "    self.responses = []\n",
    "\n",
    "  async def _encode_batch(self) -> torch.Tensor:\n",
    "    for i in range(0, len(self.text_list), self.batch_size):\n",
    "      text_batch = self.text_list[i : i + self.batch_size]\n",
    "      await self._todo.put((text_batch))\n",
    "    \n",
    "    workers = [asyncio.create_task(self.worker()) for _ in range(self.num_workers)]\n",
    "    await self._todo.join()\n",
    "    for w in workers: w.cancel()\n",
    "    return torch.cat([torch.tensor(res['embeddings']) for res in self.responses], dim=0)\n",
    "\n",
    "  async def worker(self):\n",
    "    while True:\n",
    "      try: await self.process_one()\n",
    "      except asyncio.CancelledError: return\n",
    "\n",
    "  async def process_one(self):\n",
    "    text_batch = await self._todo.get()\n",
    "    try:\n",
    "      async with self.session.post(self.url + \"/embed_batch\", json=text_batch) as response:\n",
    "        if response.status != 200: raise Exception(f\"Failed to encode text: {text_batch}. Got text: {await response.text()}\")\n",
    "        self.responses.append(await response.json())\n",
    "    except Exception as e: logger.error(e)\n",
    "    finally:\n",
    "      self.pbar.update(1)\n",
    "      self._todo.task_done()\n",
    "        \n",
    "\n",
    "async def _encode(text: Union[str, list[str]], batch_size: int=8) -> torch.Tensor:\n",
    "  async with aiohttp.ClientSession() as session:\n",
    "    _encoder = _Encoder(url, session, text, batch_size=batch_size, num_workers=8)\n",
    "    return await _encoder._encode_batch()\n",
    "\n",
    "def encode(text: Union[str, list[str]]) -> torch.Tensor:\n",
    "  if isinstance(text, str): text = [text]\n",
    "  loop = asyncio.get_event_loop()\n",
    "  return asyncio.run_coroutine_threadsafe(_encode(text, batch_size=8), loop)\n",
    "  return asyncio.run(_encode(text, batch_size=8))"
   ]
  },
  {
   "cell_type": "code",
   "execution_count": 75,
   "metadata": {},
   "outputs": [],
   "source": [
    "VERSION = 1.1\n",
    "fn = f'/Users/rohan/1_Project/fun_podsmart_summarizer/summary_obj_v{VERSION}.pkl'\n",
    "with open(fn, 'rb') as f: summary_obj = pickle.load(f)"
   ]
  },
  {
   "cell_type": "code",
   "execution_count": 76,
   "metadata": {},
   "outputs": [
    {
     "data": {
      "text/plain": [
       "[('A Computational and Engineering View of Biology',\n",
       "  'The text discusses the importance of abstractions in understanding the functionality of biological systems, drawing parallels with computer science. It emphasizes the need to consider biological phenomena at different scales and describes the use of abstractions in biology, highlighting the potential for insights from both biologists and computer scientists. The text also includes a quote from a study on cells as information-processing devices and explains the concept of abstractions in computer science and engineering.'),\n",
       " ('Abstractions in Computer Science and Biological Information',\n",
       "  'The text discusses the importance of abstractions in computer science, which help in managing complexity and organizing computer systems. It also highlights the role of information flow in biological processes, emphasizing the need to consider information as a fundamental aspect of biological systems. The comparison is drawn between the historical concept of energy and the current state of understanding biological information and complexity.'),\n",
       " ('Biological Information and Complexity',\n",
       "  'The text discusses the analogy between the current state of intellectual affairs with respect to biological information and complexity and the concept of energy at the beginning of the 19th century. It highlights the importance of understanding biological information and its relationship to information in the Shannon sense, as well as the need for new concepts in this field. The text also emphasizes the biological use of information to enhance the survival and reproductive functions of an organism.')]"
      ]
     },
     "execution_count": 76,
     "metadata": {},
     "output_type": "execute_result"
    }
   ],
   "source": [
    "stage_1_outputs = summary_obj.stage_1_outputs\n",
    "titles = [x['title'] for x in stage_1_outputs]\n",
    "summaries = [x['summary'] for x in stage_1_outputs]\n",
    "\n",
    "list(zip(titles, summaries))[:3]"
   ]
  },
  {
   "cell_type": "code",
   "execution_count": null,
   "metadata": {},
   "outputs": [
    {
     "name": "stderr",
     "output_type": "stream",
     "text": [
      "Encoding:   0%|          | 0/4 [00:00<?, ?it/s]"
     ]
    },
    {
     "name": "stderr",
     "output_type": "stream",
     "text": [
      "Encoding: 5it [00:03,  1.46it/s]                       \n"
     ]
    }
   ],
   "source": [
    "summary_embeds = encode(summaries)"
   ]
  },
  {
   "cell_type": "code",
   "execution_count": 78,
   "metadata": {},
   "outputs": [],
   "source": [
    "summary_embeds = summary_embeds.result()"
   ]
  },
  {
   "cell_type": "code",
   "execution_count": null,
   "metadata": {},
   "outputs": [
    {
     "name": "stderr",
     "output_type": "stream",
     "text": [
      "Encoding:   0%|          | 0/4 [00:00<?, ?it/s]"
     ]
    },
    {
     "name": "stderr",
     "output_type": "stream",
     "text": [
      "Encoding: 5it [00:01,  2.75it/s]                       \n"
     ]
    }
   ],
   "source": [
    "title_embeds = encode(titles)"
   ]
  },
  {
   "cell_type": "code",
   "execution_count": 80,
   "metadata": {},
   "outputs": [],
   "source": [
    "title_embeds = title_embeds.result()"
   ]
  },
  {
   "cell_type": "code",
   "execution_count": 81,
   "metadata": {},
   "outputs": [
    {
     "data": {
      "text/plain": [
       "(torch.Size([34, 768]), torch.Size([34, 768]))"
      ]
     },
     "execution_count": 81,
     "metadata": {},
     "output_type": "execute_result"
    }
   ],
   "source": [
    "summary_embeds.shape, title_embeds.shape"
   ]
  },
  {
   "cell_type": "code",
   "execution_count": 82,
   "metadata": {},
   "outputs": [],
   "source": [
    "from sklearn.metrics.pairwise import cosine_similarity\n",
    "\n",
    "similarity_matrix = cosine_similarity(summary_embeds, summary_embeds)"
   ]
  },
  {
   "cell_type": "code",
   "execution_count": 83,
   "metadata": {},
   "outputs": [
    {
     "data": {
      "text/plain": [
       "(34, 34)"
      ]
     },
     "execution_count": 83,
     "metadata": {},
     "output_type": "execute_result"
    }
   ],
   "source": [
    "similarity_matrix.shape"
   ]
  },
  {
   "cell_type": "code",
   "execution_count": 84,
   "metadata": {},
   "outputs": [
    {
     "data": {
      "text/plain": [
       "array([[1.        , 0.2217517 , 0.35288817, ..., 0.24696626, 0.3594935 ,\n",
       "        0.4104817 ],\n",
       "       [0.2217517 , 1.0000001 , 0.18700896, ..., 0.15392655, 0.3371789 ,\n",
       "        0.49257052],\n",
       "       [0.35288817, 0.18700896, 0.9999998 , ..., 0.38240036, 0.47766694,\n",
       "        0.3121438 ],\n",
       "       ...,\n",
       "       [0.24696626, 0.15392655, 0.38240036, ..., 1.        , 0.15975073,\n",
       "        0.2576941 ],\n",
       "       [0.3594935 , 0.3371789 , 0.47766694, ..., 0.15975073, 1.0000005 ,\n",
       "        0.35839382],\n",
       "       [0.4104817 , 0.49257052, 0.3121438 , ..., 0.2576941 , 0.35839382,\n",
       "        1.0000001 ]], dtype=float32)"
      ]
     },
     "execution_count": 84,
     "metadata": {},
     "output_type": "execute_result"
    }
   ],
   "source": [
    "similarity_matrix"
   ]
  },
  {
   "cell_type": "code",
   "execution_count": 85,
   "metadata": {},
   "outputs": [],
   "source": [
    "# plot similarity matrix using plotly\n",
    "fig = go.Figure(data=go.Heatmap(\n",
    "    z=similarity_matrix,\n",
    "    x=titles,\n",
    "    y=titles,\n",
    "    colorscale='Viridis'))"
   ]
  },
  {
   "cell_type": "code",
   "execution_count": 86,
   "metadata": {},
   "outputs": [],
   "source": [
    "# save plot to html str\n",
    "fig.write_html(f'similarity_matrix_v{VERSION}.html', auto_open=True)"
   ]
  },
  {
   "cell_type": "code",
   "execution_count": 87,
   "metadata": {},
   "outputs": [
    {
     "data": {
      "text/plain": [
       "(34, 2)"
      ]
     },
     "execution_count": 87,
     "metadata": {},
     "output_type": "execute_result"
    }
   ],
   "source": [
    "# create a tsne plot of the summary embeddings\n",
    "\n",
    "from sklearn.manifold import TSNE\n",
    "\n",
    "tsne = TSNE(n_components=2, random_state=0)\n",
    "tsne_obj = tsne.fit_transform(summary_embeds)\n",
    "\n",
    "tsne_obj.shape"
   ]
  },
  {
   "cell_type": "code",
   "execution_count": 88,
   "metadata": {},
   "outputs": [],
   "source": [
    "import textwrap\n",
    "formatted_summaries = [textwrap.fill(summary, width=80) for summary in summaries]\n",
    "formatted_summaries = [x.replace('\\n', '<br>') for x in formatted_summaries]\n",
    "formatted_summaries = [f\"<b>{title}</b><br>{summary}\" for title, summary in zip(titles, formatted_summaries)]"
   ]
  },
  {
   "cell_type": "code",
   "execution_count": 89,
   "metadata": {},
   "outputs": [
    {
     "data": {
      "text/plain": [
       "['<b>A Computational and Engineering View of Biology</b><br>The text discusses the importance of abstractions in understanding the<br>functionality of biological systems, drawing parallels with computer science. It<br>emphasizes the need to consider biological phenomena at different scales and<br>describes the use of abstractions in biology, highlighting the potential for<br>insights from both biologists and computer scientists. The text also includes a<br>quote from a study on cells as information-processing devices and explains the<br>concept of abstractions in computer science and engineering.',\n",
       " '<b>Abstractions in Computer Science and Biological Information</b><br>The text discusses the importance of abstractions in computer science, which<br>help in managing complexity and organizing computer systems. It also highlights<br>the role of information flow in biological processes, emphasizing the need to<br>consider information as a fundamental aspect of biological systems. The<br>comparison is drawn between the historical concept of energy and the current<br>state of understanding biological information and complexity.',\n",
       " '<b>Biological Information and Complexity</b><br>The text discusses the analogy between the current state of intellectual affairs<br>with respect to biological information and complexity and the concept of energy<br>at the beginning of the 19th century. It highlights the importance of<br>understanding biological information and its relationship to information in the<br>Shannon sense, as well as the need for new concepts in this field. The text also<br>emphasizes the biological use of information to enhance the survival and<br>reproductive functions of an organism.']"
      ]
     },
     "execution_count": 89,
     "metadata": {},
     "output_type": "execute_result"
    }
   ],
   "source": [
    "formatted_summaries[:3]"
   ]
  },
  {
   "cell_type": "code",
   "execution_count": 90,
   "metadata": {},
   "outputs": [],
   "source": [
    "import networkx as nx\n",
    "from networkx.algorithms import community\n",
    "\n",
    "def get_topics(title_similarity, num_topics = 8, bonus_constant = 0.25, min_size = 3):\n",
    "\n",
    "  proximity_bonus_arr = np.zeros_like(title_similarity)\n",
    "  for row in range(proximity_bonus_arr.shape[0]):\n",
    "    for col in range(proximity_bonus_arr.shape[1]):\n",
    "      if row == col:\n",
    "        proximity_bonus_arr[row, col] = 0\n",
    "      else:\n",
    "        proximity_bonus_arr[row, col] = 1/(abs(row-col)) * bonus_constant\n",
    "        \n",
    "  title_similarity += proximity_bonus_arr\n",
    "\n",
    "  title_nx_graph = nx.from_numpy_array(title_similarity)\n",
    "\n",
    "  desired_num_topics = num_topics\n",
    "  # Store the accepted partitionings\n",
    "  topics_title_accepted = []\n",
    "\n",
    "  resolution = 0.85\n",
    "  resolution_step = 0.01\n",
    "  iterations = 40\n",
    "\n",
    "  # Find the resolution that gives the desired number of topics\n",
    "  topics_title = []\n",
    "  while len(topics_title) not in [desired_num_topics, desired_num_topics + 1, desired_num_topics + 2]:\n",
    "    topics_title = community.louvain_communities(title_nx_graph, weight = 'weight', resolution = resolution)\n",
    "    resolution += resolution_step\n",
    "  topic_sizes = [len(c) for c in topics_title]\n",
    "  sizes_sd = np.std(topic_sizes)\n",
    "  modularity = community.modularity(title_nx_graph, topics_title, weight = 'weight', resolution = resolution)\n",
    "\n",
    "  lowest_sd_iteration = 0\n",
    "  # Set lowest sd to inf\n",
    "  lowest_sd = float('inf')\n",
    "\n",
    "  for i in range(iterations):\n",
    "    topics_title = community.louvain_communities(title_nx_graph, weight = 'weight', resolution = resolution)\n",
    "    modularity = community.modularity(title_nx_graph, topics_title, weight = 'weight', resolution = resolution)\n",
    "    \n",
    "    # Check SD\n",
    "    topic_sizes = [len(c) for c in topics_title]\n",
    "    sizes_sd = np.std(topic_sizes)\n",
    "    \n",
    "    topics_title_accepted.append(topics_title)\n",
    "    \n",
    "    if sizes_sd < lowest_sd and min(topic_sizes) >= min_size:\n",
    "      lowest_sd_iteration = i\n",
    "      lowest_sd = sizes_sd\n",
    "      \n",
    "  # Set the chosen partitioning to be the one with highest modularity\n",
    "  topics_title = topics_title_accepted[lowest_sd_iteration]\n",
    "  print(f'Best SD: {lowest_sd}, Best iteration: {lowest_sd_iteration}')\n",
    "  \n",
    "  topic_id_means = [sum(e)/len(e) for e in topics_title]\n",
    "  # Arrange title_topics in order of topic_id_means\n",
    "  topics_title = [list(c) for _, c in sorted(zip(topic_id_means, topics_title), key = lambda pair: pair[0])]\n",
    "  # Create an array denoting which topic each chunk belongs to\n",
    "  chunk_topics = [None] * title_similarity.shape[0]\n",
    "  for i, c in enumerate(topics_title):\n",
    "    for j in c:\n",
    "      chunk_topics[j] = i\n",
    "            \n",
    "  return {\n",
    "    'chunk_topics': chunk_topics,\n",
    "    'topics': topics_title\n",
    "    }\n"
   ]
  },
  {
   "cell_type": "code",
   "execution_count": 91,
   "metadata": {},
   "outputs": [],
   "source": [
    "# chunk_topics = get_topics(similarity_matrix, num_topics=len(summaries) // 4, bonus_constant=0.25, min_size=3)['chunk_topics']"
   ]
  },
  {
   "cell_type": "code",
   "execution_count": 92,
   "metadata": {},
   "outputs": [
    {
     "data": {
      "application/vnd.plotly.v1+json": {
       "config": {
        "plotlyServerURL": "https://plot.ly"
       },
       "data": [
        {
         "hovertext": [
          "<b>A Computational and Engineering View of Biology</b><br>The text discusses the importance of abstractions in understanding the<br>functionality of biological systems, drawing parallels with computer science. It<br>emphasizes the need to consider biological phenomena at different scales and<br>describes the use of abstractions in biology, highlighting the potential for<br>insights from both biologists and computer scientists. The text also includes a<br>quote from a study on cells as information-processing devices and explains the<br>concept of abstractions in computer science and engineering.",
          "<b>Abstractions in Computer Science and Biological Information</b><br>The text discusses the importance of abstractions in computer science, which<br>help in managing complexity and organizing computer systems. It also highlights<br>the role of information flow in biological processes, emphasizing the need to<br>consider information as a fundamental aspect of biological systems. The<br>comparison is drawn between the historical concept of energy and the current<br>state of understanding biological information and complexity.",
          "<b>Biological Information and Complexity</b><br>The text discusses the analogy between the current state of intellectual affairs<br>with respect to biological information and complexity and the concept of energy<br>at the beginning of the 19th century. It highlights the importance of<br>understanding biological information and its relationship to information in the<br>Shannon sense, as well as the need for new concepts in this field. The text also<br>emphasizes the biological use of information to enhance the survival and<br>reproductive functions of an organism.",
          "<b>Biological Information Processing</b><br>The text discusses the generalization of Shannon information to cellular and<br>subcellular levels, emphasizing the need for new concepts in biology. It also<br>highlights the use of information by biological organisms to enhance survival<br>and reproductive functions, and the role of complex signaling mechanisms in<br>transferring information within and between cells. Additionally, it explores the<br>idea of protein molecules as computational elements in living cells, providing<br>examples of how enzymes can function as Boolean gates and drive biological<br>responses.",
          "<b>Biological Circuits and Computational Processes</b><br>The text discusses how enzymes and protein-based circuits in cells function like<br>a nervous system, controlling the cell's behavior. It also explores the use of<br>computational processes to describe regulatory, metabolic, and signaling<br>pathways in cells, and the importance of a functional perspective in integrating<br>knowledge about cellular molecular systems.",
          "<b>Functional Equivalence and Computation in Biology</b><br>The text discusses the concept of functional equivalence between different<br>organisms and the importance of a functional perspective in integrating<br>knowledge about cellular molecular systems. It also highlights the role of<br>computation in understanding complex regulatory networks in biology, emphasizing<br>the nonlinearity of cellular signaling and the interconnected nature of the<br>genome, proteome, and metabolic network.",
          "<b>Complex Regulatory Networks in Biological Systems</b><br>The text discusses the intricate interconnectedness of subnetworks in biological<br>systems, highlighting the complexity of gene interactions and metabolic<br>pathways. It emphasizes the use of simplified models to study cellular networks<br>and the identification of basic units of regulation. The segment polarity<br>network of Drosophila melanogaster is used as an example to demonstrate the<br>insights gained from computer modeling. The perspective of cells as<br>computational devices is presented, with a comparison to digital computers.",
          "<b>Biological Organisms as Engineered Entities</b><br>The text discusses the perspective of cells as computational devices and the<br>differences between biological and digital processing. It also highlights the<br>use of exploration with selection in biological function and the application of<br>engineering insights in understanding biological organisms. The text emphasizes<br>the role of random processes in exploring possible solutions and the continuous<br>evaluation of biological systems as engineered artifacts.",
          "<b>Biological Systems and Engineering</b><br>The text discusses the similarities between biological systems and engineering,<br>highlighting the use of random processes in both fields. It also emphasizes the<br>concept of large systems being built out of smaller stable systems, drawing<br>parallels between the complexity of a Boeing 777 jetliner and a human cell. The<br>text also mentions the importance of understanding biological function using<br>concepts from engineering and computer science.",
          "<b>Biological Organisms and Reverse Engineering</b><br>The text discusses the concept of reverse engineering in biology, highlighting<br>the robustness of cellular functions and the historicity of human-engineered<br>objects. It also explores the relationship between functionality and design in<br>human artifacts, using examples such as the evolution of the rotary phone into<br>push-button phones.",
          "<b>Systems Biology and Reverse Engineering</b><br>The text discusses the concept of reverse engineering in biology, arguing that<br>it is a difficult task due to the non-optimal construction of organisms and the<br>underdetermined nature of the process. It also highlights the importance of<br>understanding the purpose and function of biological structures, and the need<br>for biologists to learn reverse engineering techniques.",
          "<b>Reverse Engineering in Biology</b><br>The text discusses the differences between engineering and biological systems,<br>highlighting the challenges of reverse engineering biological organisms. It<br>emphasizes the need to expose biology students to engineering principles and<br>analysis, and the importance of breaking biological systems into small<br>functional blocks for better understanding.",
          "<b>Functional Modules in Biology</b><br>The text discusses the search for functional modules in biology, which involves<br>breaking biological systems into small functional blocks. It explores the<br>challenges and potential pitfalls in identifying and applying these modules, and<br>highlights the need for large-scale predictive models based on multiple data<br>sources in order to better understand biological systems. The text also provides<br>examples of how this approach has been applied in metabolic and cardiac models.",
          "<b>Biological Systems and Modular Functionality</b><br>The text discusses the use of cardiac models to bridge data at multiple levels<br>and their characteristic timescales. It also explores the philosophical notion<br>of understanding a biological system through a bottom-up approach, as well as<br>the concept of modularity in biological entities. The importance of identifying<br>general principles that govern the structure and function of modules in<br>biological organisms is also highlighted.",
          "<b>Biological Modules and Their Functions</b><br>The text discusses the importance of identifying general principles that govern<br>the structure and function of biological modules. It explains that modules are<br>entities that perform specific biochemical functions and are isolated from other<br>modules by spatial localization or chemical specificity. The text also<br>highlights the advantages of modular design, such as the ability to combine and<br>recombine modules to alter the functionality of the complete system.<br>Additionally, it provides examples of mechanisms underlying the structure and<br>function of modules, including positive and negative feedback loops, coincidence<br>detection systems, and parallel circuits.",
          "<b>Biological Modularity and Quality Control Systems</b><br>The text discusses the concept of biological modularity and quality control<br>systems in cellular processes. It provides examples such as DNA replication and<br>chemotaxis in bacteria to illustrate the concept of parallel circuits and the<br>ability of biological modules to perform the same function in different<br>contexts. The text also highlights the importance of understanding modular<br>building blocks in cellular pathways for a better comprehension of biological<br>networks.",
          "<b>Genetic Networks and Building Blocks</b><br>The text discusses the high degree of similarity between human and mouse<br>kinomes, as well as the presence of recurring network motifs in genetic<br>expression networks. It also highlights the discovery of simple, recurring<br>network motifs in various biological and electronic networks, suggesting<br>underlying design principles and building blocks in genetic networks.",
          "<b>Biological Network Modules and Motifs</b><br>The text discusses the concept of modules and motifs in biological networks,<br>highlighting the importance of functional encapsulation for modules. It also<br>provides examples of network motifs in different biological systems, such as the<br>transcriptional regulation network of Escherichia coli and the endomesoderm<br>specification network in the sea urchin species Strongylocentrotus purpuratus.<br>The text emphasizes the role of modules in facilitating adaptation to new<br>conditions and new forces of natural selection in biology.",
          "<b>Genomic Regulatory Network for Development</b><br>The text discusses the architecture of a network based on perturbation and<br>expression data from cis-regulatory analyses for several genes, as well as other<br>experiments. It references several works and provides a link for quantitative<br>results and the latest view of the network. The network involves approximately<br>50 genes underlying an early cell-type specification event in sea urchin<br>embryos, including several recurring interaction motifs.",
          "<b>Computational and Engineering View of Biology</b><br>The text discusses the complexity and modularity of biological systems, using<br>the example of gene interactions in sea urchin embryos. It also explores the<br>concept of robustness in biological entities and how it can be studied using<br>analytical techniques developed in engineering. The text emphasizes the<br>potential for comparative studies across species to contribute to an<br>understanding of biological function.",
          "<b>Biological Robustness and Engineering Approaches</b><br>The term robustness in biology refers to the ability of a structure or process<br>to persist in the face of perturbations of internal components or the<br>environment. This can be achieved through mechanisms such as system control,<br>redundancy, structural stability, and modularity, which are also used in human<br>engineering. Examples of biological robustness include perfect robust adaptation<br>in bacterial chemotaxis and the use of control theory in biological systems.<br>These engineering approaches have proven to be a useful lens when investigating<br>biological robustness.",
          "<b>Biological Systems and Engineering Approaches</b><br>The text discusses how control theory and other engineering approaches are found<br>in biological systems, including redundancy, modularity, purging, and spatial<br>compartmentalization. It also highlights the concept of robustness as a property<br>of an entire system, and provides examples of how network architecture and<br>positive feedback loops contribute to robust behavior in biological systems.",
          "<b>Robustness and Evolution in Biological Systems</b><br>The text discusses the relationship between robustness and evolution in<br>biological systems, highlighting how robustness can lead to increased complexity<br>and potential vulnerability. It also explores the potential inhibitory effect of<br>robustness on evolution, while also acknowledging the survival benefits of<br>robust organisms. An open question is how robustness evolves and how robust<br>systems evolve, with a focus on the balance between robustness and evolvability.<br>The text also mentions the importance of good protocols in supporting both<br>robustness and evolvability in biological systems.",
          "<b>Biological Robustness and Noise</b><br>The text discusses the concept of robustness and noise in biological phenomena,<br>drawing parallels with engineering disciplines. It explains how biological<br>organisms exhibit robustness in the face of changing environments, and how noise<br>can take the form of fluctuations in quantities such as reaction rates and<br>concentrations. The text also explores the use of negative feedback and low-pass<br>filters in biological systems to maintain stability and reduce noise. It<br>incorporates excerpts from various scientific studies to support its arguments.",
          "<b>Robustness in Biological Systems</b><br>The text discusses the concept of robustness in biological systems, focusing on<br>examples such as bacterial chemotaxis and the segment polarity network. It also<br>explores signal processing mechanisms such as bandpass filters and integral<br>feedback, as well as other methods for attenuating noise in biological systems,<br>including redundancy and checkpointing.",
          "<b>Biological Mechanisms for Dealing with Noise</b><br>Biological systems have various mechanisms to deal with noise, such as<br>redundancy, checkpointing, proofreading, and complexity. Redundancy and parallel<br>cascades increase the likelihood of gene expression, while checkpoints ensure<br>successful completion of biological operations. Error-correcting mechanisms<br>reduce the effect of noise, and complexity itself can contribute to the<br>robustness of an organism against noise. Additionally, noise can make positive<br>contributions to biological systems by introducing variation. An example is the<br>motion bias of bacteria towards attractants due to their inability to sense<br>spatial gradients. These mechanisms have been demonstrated in various biological<br>processes and are essential for the stability and adaptability of organisms.",
          "<b>Canalization and the Connectivity of Transcriptional Regulatory Networks</b><br>The text discusses the concept of genetic canalization and its relationship to<br>transcriptional regulatory networks. It explores a model of development as the<br>interaction of a network of transcriptional regulatory genes, with phenotype as<br>the equilibrium state of this network and fitness as a function of the distance<br>between an individual’s equilibrium state and the optimum state. The text also<br>presents the results of numerical simulations of an evolving developmental-<br>genetic system, demonstrating the role of the developmental process in creating<br>canalization and the importance of network complexity in this evolutionary<br>process. It raises the question of whether the evolution of canalization<br>represents a finding of real biological significance.",
          "<b>Biological Significance of Canalization and the Role of Noise</b><br>The text discusses the biological significance of the evolution of canalization<br>and the role of noise in genetic circuits. It argues that the evolution of<br>canalization under no stabilizing selection on gene-expression patterns is of<br>real biological significance, and that noise can introduce stability and enhance<br>signals in biological systems. The text also highlights the importance of<br>stability in the evolution of canalization and the potential for noise to be<br>used for introducing stability in biological systems.",
          "<b>Biological Robustness and Computational Metaphor</b><br>The text discusses the complex network that controls circadian rhythms and<br>explores the use of stochastic models to produce regular oscillations. It also<br>highlights the importance of noise resistance and the interaction of multiple<br>feedback loops in biological networks. Additionally, it mentions the use of<br>computational models to analyze multiple coupled systems and the potential<br>insights from a computational perspective.",
          "<b>Metaphors in Biology and Computing</b><br>The text discusses the use of metaphors in biology and computing, highlighting<br>how they can be used to communicate and explain complex concepts. It also<br>emphasizes the importance of carefully choosing metaphors to avoid misleading or<br>irrelevant details. The use of metaphors from one field to gain insights in<br>another field is also discussed, with examples such as comparing the DNA<br>sequence to the binary code of a computer program.",
          "<b>Computational and Engineering View of Biology</b><br>The text discusses the similarities between computer programs and biological<br>systems, such as the use of analogies like gene as a subprogram and the<br>evolution of computing as similar to the transition from single-cell to<br>multicellular organisms. It also explores how computational metaphors can<br>provide insight into biological processes, using examples of formalisms capable<br>of representing cellular processes.",
          "<b>Principles of Operation for Multicellular Organisms and Networked Computing</b><br>The text discusses the similarities between the principles of operation for<br>multicellular organisms and networked computing, such as collaboration between<br>specialized cells, communication through polymorphic messages, defining \"self\"<br>through stigmergic structures, and the concept of programmed cell death. It also<br>provides examples of T-cell simulation and the application of formal language<br>theory to the analysis of nucleic acid sequences.",
          "<b>Linguistics of DNA</b><br>The text discusses the application of formal language theory to the analysis of<br>nucleic acid sequences, drawing parallels between linguistic theory and genomic<br>analysis. It explores the use of generative grammar to identify specific<br>sequences and structures in genetic material, and the potential for<br>understanding the evolution of nucleic acid sequences through linguistic<br>analysis.",
          "<b>Evolution of Nucleic Acid Sequences</b><br>The text discusses the approach for understanding the evolution of nucleic acid<br>sequences, suggesting that the first sequences were likely random and regular<br>languages. It raises the question of which string operations do not promote<br>regular languages and context-free languages into more powerful linguistic<br>categories."
         ],
         "marker": {
          "color": [
           2,
           0,
           1,
           1,
           2,
           1,
           0,
           0,
           0,
           4,
           2,
           2,
           2,
           2,
           2,
           3,
           3,
           4,
           3,
           4,
           4,
           1,
           5,
           4,
           4,
           5,
           5,
           5,
           5,
           6,
           6,
           6,
           6,
           6
          ],
          "colorscale": [
           [
            0,
            "#440154"
           ],
           [
            0.1111111111111111,
            "#482878"
           ],
           [
            0.2222222222222222,
            "#3e4989"
           ],
           [
            0.3333333333333333,
            "#31688e"
           ],
           [
            0.4444444444444444,
            "#26828e"
           ],
           [
            0.5555555555555556,
            "#1f9e89"
           ],
           [
            0.6666666666666666,
            "#35b779"
           ],
           [
            0.7777777777777778,
            "#6ece58"
           ],
           [
            0.8888888888888888,
            "#b5de2b"
           ],
           [
            1,
            "#fde725"
           ]
          ],
          "showscale": true,
          "size": 16
         },
         "mode": "markers",
         "text": [
          "A Computational and Engineering View of Biology",
          "Abstractions in Computer Science and Biological Information",
          "Biological Information and Complexity",
          "Biological Information Processing",
          "Biological Circuits and Computational Processes",
          "Functional Equivalence and Computation in Biology",
          "Complex Regulatory Networks in Biological Systems",
          "Biological Organisms as Engineered Entities",
          "Biological Systems and Engineering",
          "Biological Organisms and Reverse Engineering",
          "Systems Biology and Reverse Engineering",
          "Reverse Engineering in Biology",
          "Functional Modules in Biology",
          "Biological Systems and Modular Functionality",
          "Biological Modules and Their Functions",
          "Biological Modularity and Quality Control Systems",
          "Genetic Networks and Building Blocks",
          "Biological Network Modules and Motifs",
          "Genomic Regulatory Network for Development",
          "Computational and Engineering View of Biology",
          "Biological Robustness and Engineering Approaches",
          "Biological Systems and Engineering Approaches",
          "Robustness and Evolution in Biological Systems",
          "Biological Robustness and Noise",
          "Robustness in Biological Systems",
          "Biological Mechanisms for Dealing with Noise",
          "Canalization and the Connectivity of Transcriptional Regulatory Networks",
          "Biological Significance of Canalization and the Role of Noise",
          "Biological Robustness and Computational Metaphor",
          "Metaphors in Biology and Computing",
          "Computational and Engineering View of Biology",
          "Principles of Operation for Multicellular Organisms and Networked Computing",
          "Linguistics of DNA",
          "Evolution of Nucleic Acid Sequences"
         ],
         "type": "scatter",
         "x": [
          -1.2170689,
          -0.92210495,
          -2.018195,
          -1.7636868,
          -0.8852912,
          -1.7997233,
          -1.491816,
          -1.3778783,
          -1.7831918,
          -0.92595667,
          -1.2315719,
          -1.0050112,
          -1.9213228,
          -1.6659814,
          -1.7726506,
          -1.2133296,
          -0.9877536,
          -1.5545397,
          -1.2328213,
          -1.2371194,
          -1.4103926,
          -0.6717354,
          -1.1931467,
          -0.93822926,
          -1.9862204,
          -0.6694561,
          -1.1901258,
          -0.57289845,
          -1.3293982,
          -0.7410899,
          -0.8702003,
          -1.1040682,
          -2.0866883,
          -0.96917135
         ],
         "y": [
          -2.0769234,
          -2.7997332,
          -2.835066,
          -2.848399,
          -3.535872,
          -2.6131923,
          -3.0058007,
          -2.5741358,
          -2.8747687,
          -2.2132497,
          -3.4155607,
          -2.9351995,
          -3.2913759,
          -3.4449205,
          -2.0472457,
          -2.442695,
          -3.067621,
          -2.5745912,
          -3.0692184,
          -2.2727177,
          -2.673331,
          -2.5113313,
          -2.389998,
          -1.9357082,
          -2.1534154,
          -2.6275308,
          -2.5095935,
          -3.0281067,
          -2.3834763,
          -2.5964484,
          -2.3278346,
          -3.2279038,
          -2.597811,
          -2.649428
         ]
        }
       ],
       "layout": {
        "template": {
         "data": {
          "bar": [
           {
            "error_x": {
             "color": "#2a3f5f"
            },
            "error_y": {
             "color": "#2a3f5f"
            },
            "marker": {
             "line": {
              "color": "#E5ECF6",
              "width": 0.5
             },
             "pattern": {
              "fillmode": "overlay",
              "size": 10,
              "solidity": 0.2
             }
            },
            "type": "bar"
           }
          ],
          "barpolar": [
           {
            "marker": {
             "line": {
              "color": "#E5ECF6",
              "width": 0.5
             },
             "pattern": {
              "fillmode": "overlay",
              "size": 10,
              "solidity": 0.2
             }
            },
            "type": "barpolar"
           }
          ],
          "carpet": [
           {
            "aaxis": {
             "endlinecolor": "#2a3f5f",
             "gridcolor": "white",
             "linecolor": "white",
             "minorgridcolor": "white",
             "startlinecolor": "#2a3f5f"
            },
            "baxis": {
             "endlinecolor": "#2a3f5f",
             "gridcolor": "white",
             "linecolor": "white",
             "minorgridcolor": "white",
             "startlinecolor": "#2a3f5f"
            },
            "type": "carpet"
           }
          ],
          "choropleth": [
           {
            "colorbar": {
             "outlinewidth": 0,
             "ticks": ""
            },
            "type": "choropleth"
           }
          ],
          "contour": [
           {
            "colorbar": {
             "outlinewidth": 0,
             "ticks": ""
            },
            "colorscale": [
             [
              0,
              "#0d0887"
             ],
             [
              0.1111111111111111,
              "#46039f"
             ],
             [
              0.2222222222222222,
              "#7201a8"
             ],
             [
              0.3333333333333333,
              "#9c179e"
             ],
             [
              0.4444444444444444,
              "#bd3786"
             ],
             [
              0.5555555555555556,
              "#d8576b"
             ],
             [
              0.6666666666666666,
              "#ed7953"
             ],
             [
              0.7777777777777778,
              "#fb9f3a"
             ],
             [
              0.8888888888888888,
              "#fdca26"
             ],
             [
              1,
              "#f0f921"
             ]
            ],
            "type": "contour"
           }
          ],
          "contourcarpet": [
           {
            "colorbar": {
             "outlinewidth": 0,
             "ticks": ""
            },
            "type": "contourcarpet"
           }
          ],
          "heatmap": [
           {
            "colorbar": {
             "outlinewidth": 0,
             "ticks": ""
            },
            "colorscale": [
             [
              0,
              "#0d0887"
             ],
             [
              0.1111111111111111,
              "#46039f"
             ],
             [
              0.2222222222222222,
              "#7201a8"
             ],
             [
              0.3333333333333333,
              "#9c179e"
             ],
             [
              0.4444444444444444,
              "#bd3786"
             ],
             [
              0.5555555555555556,
              "#d8576b"
             ],
             [
              0.6666666666666666,
              "#ed7953"
             ],
             [
              0.7777777777777778,
              "#fb9f3a"
             ],
             [
              0.8888888888888888,
              "#fdca26"
             ],
             [
              1,
              "#f0f921"
             ]
            ],
            "type": "heatmap"
           }
          ],
          "heatmapgl": [
           {
            "colorbar": {
             "outlinewidth": 0,
             "ticks": ""
            },
            "colorscale": [
             [
              0,
              "#0d0887"
             ],
             [
              0.1111111111111111,
              "#46039f"
             ],
             [
              0.2222222222222222,
              "#7201a8"
             ],
             [
              0.3333333333333333,
              "#9c179e"
             ],
             [
              0.4444444444444444,
              "#bd3786"
             ],
             [
              0.5555555555555556,
              "#d8576b"
             ],
             [
              0.6666666666666666,
              "#ed7953"
             ],
             [
              0.7777777777777778,
              "#fb9f3a"
             ],
             [
              0.8888888888888888,
              "#fdca26"
             ],
             [
              1,
              "#f0f921"
             ]
            ],
            "type": "heatmapgl"
           }
          ],
          "histogram": [
           {
            "marker": {
             "pattern": {
              "fillmode": "overlay",
              "size": 10,
              "solidity": 0.2
             }
            },
            "type": "histogram"
           }
          ],
          "histogram2d": [
           {
            "colorbar": {
             "outlinewidth": 0,
             "ticks": ""
            },
            "colorscale": [
             [
              0,
              "#0d0887"
             ],
             [
              0.1111111111111111,
              "#46039f"
             ],
             [
              0.2222222222222222,
              "#7201a8"
             ],
             [
              0.3333333333333333,
              "#9c179e"
             ],
             [
              0.4444444444444444,
              "#bd3786"
             ],
             [
              0.5555555555555556,
              "#d8576b"
             ],
             [
              0.6666666666666666,
              "#ed7953"
             ],
             [
              0.7777777777777778,
              "#fb9f3a"
             ],
             [
              0.8888888888888888,
              "#fdca26"
             ],
             [
              1,
              "#f0f921"
             ]
            ],
            "type": "histogram2d"
           }
          ],
          "histogram2dcontour": [
           {
            "colorbar": {
             "outlinewidth": 0,
             "ticks": ""
            },
            "colorscale": [
             [
              0,
              "#0d0887"
             ],
             [
              0.1111111111111111,
              "#46039f"
             ],
             [
              0.2222222222222222,
              "#7201a8"
             ],
             [
              0.3333333333333333,
              "#9c179e"
             ],
             [
              0.4444444444444444,
              "#bd3786"
             ],
             [
              0.5555555555555556,
              "#d8576b"
             ],
             [
              0.6666666666666666,
              "#ed7953"
             ],
             [
              0.7777777777777778,
              "#fb9f3a"
             ],
             [
              0.8888888888888888,
              "#fdca26"
             ],
             [
              1,
              "#f0f921"
             ]
            ],
            "type": "histogram2dcontour"
           }
          ],
          "mesh3d": [
           {
            "colorbar": {
             "outlinewidth": 0,
             "ticks": ""
            },
            "type": "mesh3d"
           }
          ],
          "parcoords": [
           {
            "line": {
             "colorbar": {
              "outlinewidth": 0,
              "ticks": ""
             }
            },
            "type": "parcoords"
           }
          ],
          "pie": [
           {
            "automargin": true,
            "type": "pie"
           }
          ],
          "scatter": [
           {
            "fillpattern": {
             "fillmode": "overlay",
             "size": 10,
             "solidity": 0.2
            },
            "type": "scatter"
           }
          ],
          "scatter3d": [
           {
            "line": {
             "colorbar": {
              "outlinewidth": 0,
              "ticks": ""
             }
            },
            "marker": {
             "colorbar": {
              "outlinewidth": 0,
              "ticks": ""
             }
            },
            "type": "scatter3d"
           }
          ],
          "scattercarpet": [
           {
            "marker": {
             "colorbar": {
              "outlinewidth": 0,
              "ticks": ""
             }
            },
            "type": "scattercarpet"
           }
          ],
          "scattergeo": [
           {
            "marker": {
             "colorbar": {
              "outlinewidth": 0,
              "ticks": ""
             }
            },
            "type": "scattergeo"
           }
          ],
          "scattergl": [
           {
            "marker": {
             "colorbar": {
              "outlinewidth": 0,
              "ticks": ""
             }
            },
            "type": "scattergl"
           }
          ],
          "scattermapbox": [
           {
            "marker": {
             "colorbar": {
              "outlinewidth": 0,
              "ticks": ""
             }
            },
            "type": "scattermapbox"
           }
          ],
          "scatterpolar": [
           {
            "marker": {
             "colorbar": {
              "outlinewidth": 0,
              "ticks": ""
             }
            },
            "type": "scatterpolar"
           }
          ],
          "scatterpolargl": [
           {
            "marker": {
             "colorbar": {
              "outlinewidth": 0,
              "ticks": ""
             }
            },
            "type": "scatterpolargl"
           }
          ],
          "scatterternary": [
           {
            "marker": {
             "colorbar": {
              "outlinewidth": 0,
              "ticks": ""
             }
            },
            "type": "scatterternary"
           }
          ],
          "surface": [
           {
            "colorbar": {
             "outlinewidth": 0,
             "ticks": ""
            },
            "colorscale": [
             [
              0,
              "#0d0887"
             ],
             [
              0.1111111111111111,
              "#46039f"
             ],
             [
              0.2222222222222222,
              "#7201a8"
             ],
             [
              0.3333333333333333,
              "#9c179e"
             ],
             [
              0.4444444444444444,
              "#bd3786"
             ],
             [
              0.5555555555555556,
              "#d8576b"
             ],
             [
              0.6666666666666666,
              "#ed7953"
             ],
             [
              0.7777777777777778,
              "#fb9f3a"
             ],
             [
              0.8888888888888888,
              "#fdca26"
             ],
             [
              1,
              "#f0f921"
             ]
            ],
            "type": "surface"
           }
          ],
          "table": [
           {
            "cells": {
             "fill": {
              "color": "#EBF0F8"
             },
             "line": {
              "color": "white"
             }
            },
            "header": {
             "fill": {
              "color": "#C8D4E3"
             },
             "line": {
              "color": "white"
             }
            },
            "type": "table"
           }
          ]
         },
         "layout": {
          "annotationdefaults": {
           "arrowcolor": "#2a3f5f",
           "arrowhead": 0,
           "arrowwidth": 1
          },
          "autotypenumbers": "strict",
          "coloraxis": {
           "colorbar": {
            "outlinewidth": 0,
            "ticks": ""
           }
          },
          "colorscale": {
           "diverging": [
            [
             0,
             "#8e0152"
            ],
            [
             0.1,
             "#c51b7d"
            ],
            [
             0.2,
             "#de77ae"
            ],
            [
             0.3,
             "#f1b6da"
            ],
            [
             0.4,
             "#fde0ef"
            ],
            [
             0.5,
             "#f7f7f7"
            ],
            [
             0.6,
             "#e6f5d0"
            ],
            [
             0.7,
             "#b8e186"
            ],
            [
             0.8,
             "#7fbc41"
            ],
            [
             0.9,
             "#4d9221"
            ],
            [
             1,
             "#276419"
            ]
           ],
           "sequential": [
            [
             0,
             "#0d0887"
            ],
            [
             0.1111111111111111,
             "#46039f"
            ],
            [
             0.2222222222222222,
             "#7201a8"
            ],
            [
             0.3333333333333333,
             "#9c179e"
            ],
            [
             0.4444444444444444,
             "#bd3786"
            ],
            [
             0.5555555555555556,
             "#d8576b"
            ],
            [
             0.6666666666666666,
             "#ed7953"
            ],
            [
             0.7777777777777778,
             "#fb9f3a"
            ],
            [
             0.8888888888888888,
             "#fdca26"
            ],
            [
             1,
             "#f0f921"
            ]
           ],
           "sequentialminus": [
            [
             0,
             "#0d0887"
            ],
            [
             0.1111111111111111,
             "#46039f"
            ],
            [
             0.2222222222222222,
             "#7201a8"
            ],
            [
             0.3333333333333333,
             "#9c179e"
            ],
            [
             0.4444444444444444,
             "#bd3786"
            ],
            [
             0.5555555555555556,
             "#d8576b"
            ],
            [
             0.6666666666666666,
             "#ed7953"
            ],
            [
             0.7777777777777778,
             "#fb9f3a"
            ],
            [
             0.8888888888888888,
             "#fdca26"
            ],
            [
             1,
             "#f0f921"
            ]
           ]
          },
          "colorway": [
           "#636efa",
           "#EF553B",
           "#00cc96",
           "#ab63fa",
           "#FFA15A",
           "#19d3f3",
           "#FF6692",
           "#B6E880",
           "#FF97FF",
           "#FECB52"
          ],
          "font": {
           "color": "#2a3f5f"
          },
          "geo": {
           "bgcolor": "white",
           "lakecolor": "white",
           "landcolor": "#E5ECF6",
           "showlakes": true,
           "showland": true,
           "subunitcolor": "white"
          },
          "hoverlabel": {
           "align": "left"
          },
          "hovermode": "closest",
          "mapbox": {
           "style": "light"
          },
          "paper_bgcolor": "white",
          "plot_bgcolor": "#E5ECF6",
          "polar": {
           "angularaxis": {
            "gridcolor": "white",
            "linecolor": "white",
            "ticks": ""
           },
           "bgcolor": "#E5ECF6",
           "radialaxis": {
            "gridcolor": "white",
            "linecolor": "white",
            "ticks": ""
           }
          },
          "scene": {
           "xaxis": {
            "backgroundcolor": "#E5ECF6",
            "gridcolor": "white",
            "gridwidth": 2,
            "linecolor": "white",
            "showbackground": true,
            "ticks": "",
            "zerolinecolor": "white"
           },
           "yaxis": {
            "backgroundcolor": "#E5ECF6",
            "gridcolor": "white",
            "gridwidth": 2,
            "linecolor": "white",
            "showbackground": true,
            "ticks": "",
            "zerolinecolor": "white"
           },
           "zaxis": {
            "backgroundcolor": "#E5ECF6",
            "gridcolor": "white",
            "gridwidth": 2,
            "linecolor": "white",
            "showbackground": true,
            "ticks": "",
            "zerolinecolor": "white"
           }
          },
          "shapedefaults": {
           "line": {
            "color": "#2a3f5f"
           }
          },
          "ternary": {
           "aaxis": {
            "gridcolor": "white",
            "linecolor": "white",
            "ticks": ""
           },
           "baxis": {
            "gridcolor": "white",
            "linecolor": "white",
            "ticks": ""
           },
           "bgcolor": "#E5ECF6",
           "caxis": {
            "gridcolor": "white",
            "linecolor": "white",
            "ticks": ""
           }
          },
          "title": {
           "x": 0.05
          },
          "xaxis": {
           "automargin": true,
           "gridcolor": "white",
           "linecolor": "white",
           "ticks": "",
           "title": {
            "standoff": 15
           },
           "zerolinecolor": "white",
           "zerolinewidth": 2
          },
          "yaxis": {
           "automargin": true,
           "gridcolor": "white",
           "linecolor": "white",
           "ticks": "",
           "title": {
            "standoff": 15
           },
           "zerolinecolor": "white",
           "zerolinewidth": 2
          }
         }
        },
        "xaxis": {
         "scaleanchor": "y",
         "scaleratio": 1
        },
        "yaxis": {
         "scaleanchor": "x",
         "scaleratio": 1
        }
       }
      }
     },
     "metadata": {},
     "output_type": "display_data"
    }
   ],
   "source": [
    "# plot tsne\n",
    "fig = go.Figure(data=go.Scatter(\n",
    "  x=tsne_obj[:, 0],\n",
    "  y=tsne_obj[:, 1],\n",
    "  mode='markers',\n",
    "  text=titles,\n",
    "  hovertext=formatted_summaries,  # Add summaries as hover text\n",
    "  marker=dict(\n",
    "    size=16,\n",
    "    color=summary_obj.chunk_topics, # set color equal to a variable\n",
    "    colorscale='Viridis', # one of plotly colorscales\n",
    "    showscale=True\n",
    "  )\n",
    "))\n",
    "fig.update_layout(xaxis=dict(scaleanchor=\"y\", scaleratio=1), yaxis=dict(scaleanchor=\"x\", scaleratio=1))\n"
   ]
  },
  {
   "cell_type": "code",
   "execution_count": 93,
   "metadata": {},
   "outputs": [],
   "source": [
    "fig.write_html(f'tsne_v{VERSION}.html', auto_open=True)"
   ]
  },
  {
   "cell_type": "code",
   "execution_count": 94,
   "metadata": {},
   "outputs": [
    {
     "data": {
      "text/plain": [
       "(34, 2)"
      ]
     },
     "execution_count": 94,
     "metadata": {},
     "output_type": "execute_result"
    }
   ],
   "source": [
    "# create a pca plot of the summary embeddings\n",
    "\n",
    "from sklearn.decomposition import PCA\n",
    "pca = PCA(n_components=2)\n",
    "pca_obj = pca.fit_transform(summary_embeds)\n",
    "\n",
    "pca_obj.shape"
   ]
  },
  {
   "cell_type": "code",
   "execution_count": 96,
   "metadata": {},
   "outputs": [
    {
     "data": {
      "application/vnd.plotly.v1+json": {
       "config": {
        "plotlyServerURL": "https://plot.ly"
       },
       "data": [
        {
         "hovertext": [
          "<b>A Computational and Engineering View of Biology</b><br>The text discusses the importance of abstractions in understanding the<br>functionality of biological systems, drawing parallels with computer science. It<br>emphasizes the need to consider biological phenomena at different scales and<br>describes the use of abstractions in biology, highlighting the potential for<br>insights from both biologists and computer scientists. The text also includes a<br>quote from a study on cells as information-processing devices and explains the<br>concept of abstractions in computer science and engineering.",
          "<b>Abstractions in Computer Science and Biological Information</b><br>The text discusses the importance of abstractions in computer science, which<br>help in managing complexity and organizing computer systems. It also highlights<br>the role of information flow in biological processes, emphasizing the need to<br>consider information as a fundamental aspect of biological systems. The<br>comparison is drawn between the historical concept of energy and the current<br>state of understanding biological information and complexity.",
          "<b>Biological Information and Complexity</b><br>The text discusses the analogy between the current state of intellectual affairs<br>with respect to biological information and complexity and the concept of energy<br>at the beginning of the 19th century. It highlights the importance of<br>understanding biological information and its relationship to information in the<br>Shannon sense, as well as the need for new concepts in this field. The text also<br>emphasizes the biological use of information to enhance the survival and<br>reproductive functions of an organism.",
          "<b>Biological Information Processing</b><br>The text discusses the generalization of Shannon information to cellular and<br>subcellular levels, emphasizing the need for new concepts in biology. It also<br>highlights the use of information by biological organisms to enhance survival<br>and reproductive functions, and the role of complex signaling mechanisms in<br>transferring information within and between cells. Additionally, it explores the<br>idea of protein molecules as computational elements in living cells, providing<br>examples of how enzymes can function as Boolean gates and drive biological<br>responses.",
          "<b>Biological Circuits and Computational Processes</b><br>The text discusses how enzymes and protein-based circuits in cells function like<br>a nervous system, controlling the cell's behavior. It also explores the use of<br>computational processes to describe regulatory, metabolic, and signaling<br>pathways in cells, and the importance of a functional perspective in integrating<br>knowledge about cellular molecular systems.",
          "<b>Functional Equivalence and Computation in Biology</b><br>The text discusses the concept of functional equivalence between different<br>organisms and the importance of a functional perspective in integrating<br>knowledge about cellular molecular systems. It also highlights the role of<br>computation in understanding complex regulatory networks in biology, emphasizing<br>the nonlinearity of cellular signaling and the interconnected nature of the<br>genome, proteome, and metabolic network.",
          "<b>Complex Regulatory Networks in Biological Systems</b><br>The text discusses the intricate interconnectedness of subnetworks in biological<br>systems, highlighting the complexity of gene interactions and metabolic<br>pathways. It emphasizes the use of simplified models to study cellular networks<br>and the identification of basic units of regulation. The segment polarity<br>network of Drosophila melanogaster is used as an example to demonstrate the<br>insights gained from computer modeling. The perspective of cells as<br>computational devices is presented, with a comparison to digital computers.",
          "<b>Biological Organisms as Engineered Entities</b><br>The text discusses the perspective of cells as computational devices and the<br>differences between biological and digital processing. It also highlights the<br>use of exploration with selection in biological function and the application of<br>engineering insights in understanding biological organisms. The text emphasizes<br>the role of random processes in exploring possible solutions and the continuous<br>evaluation of biological systems as engineered artifacts.",
          "<b>Biological Systems and Engineering</b><br>The text discusses the similarities between biological systems and engineering,<br>highlighting the use of random processes in both fields. It also emphasizes the<br>concept of large systems being built out of smaller stable systems, drawing<br>parallels between the complexity of a Boeing 777 jetliner and a human cell. The<br>text also mentions the importance of understanding biological function using<br>concepts from engineering and computer science.",
          "<b>Biological Organisms and Reverse Engineering</b><br>The text discusses the concept of reverse engineering in biology, highlighting<br>the robustness of cellular functions and the historicity of human-engineered<br>objects. It also explores the relationship between functionality and design in<br>human artifacts, using examples such as the evolution of the rotary phone into<br>push-button phones.",
          "<b>Systems Biology and Reverse Engineering</b><br>The text discusses the concept of reverse engineering in biology, arguing that<br>it is a difficult task due to the non-optimal construction of organisms and the<br>underdetermined nature of the process. It also highlights the importance of<br>understanding the purpose and function of biological structures, and the need<br>for biologists to learn reverse engineering techniques.",
          "<b>Reverse Engineering in Biology</b><br>The text discusses the differences between engineering and biological systems,<br>highlighting the challenges of reverse engineering biological organisms. It<br>emphasizes the need to expose biology students to engineering principles and<br>analysis, and the importance of breaking biological systems into small<br>functional blocks for better understanding.",
          "<b>Functional Modules in Biology</b><br>The text discusses the search for functional modules in biology, which involves<br>breaking biological systems into small functional blocks. It explores the<br>challenges and potential pitfalls in identifying and applying these modules, and<br>highlights the need for large-scale predictive models based on multiple data<br>sources in order to better understand biological systems. The text also provides<br>examples of how this approach has been applied in metabolic and cardiac models.",
          "<b>Biological Systems and Modular Functionality</b><br>The text discusses the use of cardiac models to bridge data at multiple levels<br>and their characteristic timescales. It also explores the philosophical notion<br>of understanding a biological system through a bottom-up approach, as well as<br>the concept of modularity in biological entities. The importance of identifying<br>general principles that govern the structure and function of modules in<br>biological organisms is also highlighted.",
          "<b>Biological Modules and Their Functions</b><br>The text discusses the importance of identifying general principles that govern<br>the structure and function of biological modules. It explains that modules are<br>entities that perform specific biochemical functions and are isolated from other<br>modules by spatial localization or chemical specificity. The text also<br>highlights the advantages of modular design, such as the ability to combine and<br>recombine modules to alter the functionality of the complete system.<br>Additionally, it provides examples of mechanisms underlying the structure and<br>function of modules, including positive and negative feedback loops, coincidence<br>detection systems, and parallel circuits.",
          "<b>Biological Modularity and Quality Control Systems</b><br>The text discusses the concept of biological modularity and quality control<br>systems in cellular processes. It provides examples such as DNA replication and<br>chemotaxis in bacteria to illustrate the concept of parallel circuits and the<br>ability of biological modules to perform the same function in different<br>contexts. The text also highlights the importance of understanding modular<br>building blocks in cellular pathways for a better comprehension of biological<br>networks.",
          "<b>Genetic Networks and Building Blocks</b><br>The text discusses the high degree of similarity between human and mouse<br>kinomes, as well as the presence of recurring network motifs in genetic<br>expression networks. It also highlights the discovery of simple, recurring<br>network motifs in various biological and electronic networks, suggesting<br>underlying design principles and building blocks in genetic networks.",
          "<b>Biological Network Modules and Motifs</b><br>The text discusses the concept of modules and motifs in biological networks,<br>highlighting the importance of functional encapsulation for modules. It also<br>provides examples of network motifs in different biological systems, such as the<br>transcriptional regulation network of Escherichia coli and the endomesoderm<br>specification network in the sea urchin species Strongylocentrotus purpuratus.<br>The text emphasizes the role of modules in facilitating adaptation to new<br>conditions and new forces of natural selection in biology.",
          "<b>Genomic Regulatory Network for Development</b><br>The text discusses the architecture of a network based on perturbation and<br>expression data from cis-regulatory analyses for several genes, as well as other<br>experiments. It references several works and provides a link for quantitative<br>results and the latest view of the network. The network involves approximately<br>50 genes underlying an early cell-type specification event in sea urchin<br>embryos, including several recurring interaction motifs.",
          "<b>Computational and Engineering View of Biology</b><br>The text discusses the complexity and modularity of biological systems, using<br>the example of gene interactions in sea urchin embryos. It also explores the<br>concept of robustness in biological entities and how it can be studied using<br>analytical techniques developed in engineering. The text emphasizes the<br>potential for comparative studies across species to contribute to an<br>understanding of biological function.",
          "<b>Biological Robustness and Engineering Approaches</b><br>The term robustness in biology refers to the ability of a structure or process<br>to persist in the face of perturbations of internal components or the<br>environment. This can be achieved through mechanisms such as system control,<br>redundancy, structural stability, and modularity, which are also used in human<br>engineering. Examples of biological robustness include perfect robust adaptation<br>in bacterial chemotaxis and the use of control theory in biological systems.<br>These engineering approaches have proven to be a useful lens when investigating<br>biological robustness.",
          "<b>Biological Systems and Engineering Approaches</b><br>The text discusses how control theory and other engineering approaches are found<br>in biological systems, including redundancy, modularity, purging, and spatial<br>compartmentalization. It also highlights the concept of robustness as a property<br>of an entire system, and provides examples of how network architecture and<br>positive feedback loops contribute to robust behavior in biological systems.",
          "<b>Robustness and Evolution in Biological Systems</b><br>The text discusses the relationship between robustness and evolution in<br>biological systems, highlighting how robustness can lead to increased complexity<br>and potential vulnerability. It also explores the potential inhibitory effect of<br>robustness on evolution, while also acknowledging the survival benefits of<br>robust organisms. An open question is how robustness evolves and how robust<br>systems evolve, with a focus on the balance between robustness and evolvability.<br>The text also mentions the importance of good protocols in supporting both<br>robustness and evolvability in biological systems.",
          "<b>Biological Robustness and Noise</b><br>The text discusses the concept of robustness and noise in biological phenomena,<br>drawing parallels with engineering disciplines. It explains how biological<br>organisms exhibit robustness in the face of changing environments, and how noise<br>can take the form of fluctuations in quantities such as reaction rates and<br>concentrations. The text also explores the use of negative feedback and low-pass<br>filters in biological systems to maintain stability and reduce noise. It<br>incorporates excerpts from various scientific studies to support its arguments.",
          "<b>Robustness in Biological Systems</b><br>The text discusses the concept of robustness in biological systems, focusing on<br>examples such as bacterial chemotaxis and the segment polarity network. It also<br>explores signal processing mechanisms such as bandpass filters and integral<br>feedback, as well as other methods for attenuating noise in biological systems,<br>including redundancy and checkpointing.",
          "<b>Biological Mechanisms for Dealing with Noise</b><br>Biological systems have various mechanisms to deal with noise, such as<br>redundancy, checkpointing, proofreading, and complexity. Redundancy and parallel<br>cascades increase the likelihood of gene expression, while checkpoints ensure<br>successful completion of biological operations. Error-correcting mechanisms<br>reduce the effect of noise, and complexity itself can contribute to the<br>robustness of an organism against noise. Additionally, noise can make positive<br>contributions to biological systems by introducing variation. An example is the<br>motion bias of bacteria towards attractants due to their inability to sense<br>spatial gradients. These mechanisms have been demonstrated in various biological<br>processes and are essential for the stability and adaptability of organisms.",
          "<b>Canalization and the Connectivity of Transcriptional Regulatory Networks</b><br>The text discusses the concept of genetic canalization and its relationship to<br>transcriptional regulatory networks. It explores a model of development as the<br>interaction of a network of transcriptional regulatory genes, with phenotype as<br>the equilibrium state of this network and fitness as a function of the distance<br>between an individual’s equilibrium state and the optimum state. The text also<br>presents the results of numerical simulations of an evolving developmental-<br>genetic system, demonstrating the role of the developmental process in creating<br>canalization and the importance of network complexity in this evolutionary<br>process. It raises the question of whether the evolution of canalization<br>represents a finding of real biological significance.",
          "<b>Biological Significance of Canalization and the Role of Noise</b><br>The text discusses the biological significance of the evolution of canalization<br>and the role of noise in genetic circuits. It argues that the evolution of<br>canalization under no stabilizing selection on gene-expression patterns is of<br>real biological significance, and that noise can introduce stability and enhance<br>signals in biological systems. The text also highlights the importance of<br>stability in the evolution of canalization and the potential for noise to be<br>used for introducing stability in biological systems.",
          "<b>Biological Robustness and Computational Metaphor</b><br>The text discusses the complex network that controls circadian rhythms and<br>explores the use of stochastic models to produce regular oscillations. It also<br>highlights the importance of noise resistance and the interaction of multiple<br>feedback loops in biological networks. Additionally, it mentions the use of<br>computational models to analyze multiple coupled systems and the potential<br>insights from a computational perspective.",
          "<b>Metaphors in Biology and Computing</b><br>The text discusses the use of metaphors in biology and computing, highlighting<br>how they can be used to communicate and explain complex concepts. It also<br>emphasizes the importance of carefully choosing metaphors to avoid misleading or<br>irrelevant details. The use of metaphors from one field to gain insights in<br>another field is also discussed, with examples such as comparing the DNA<br>sequence to the binary code of a computer program.",
          "<b>Computational and Engineering View of Biology</b><br>The text discusses the similarities between computer programs and biological<br>systems, such as the use of analogies like gene as a subprogram and the<br>evolution of computing as similar to the transition from single-cell to<br>multicellular organisms. It also explores how computational metaphors can<br>provide insight into biological processes, using examples of formalisms capable<br>of representing cellular processes.",
          "<b>Principles of Operation for Multicellular Organisms and Networked Computing</b><br>The text discusses the similarities between the principles of operation for<br>multicellular organisms and networked computing, such as collaboration between<br>specialized cells, communication through polymorphic messages, defining \"self\"<br>through stigmergic structures, and the concept of programmed cell death. It also<br>provides examples of T-cell simulation and the application of formal language<br>theory to the analysis of nucleic acid sequences.",
          "<b>Linguistics of DNA</b><br>The text discusses the application of formal language theory to the analysis of<br>nucleic acid sequences, drawing parallels between linguistic theory and genomic<br>analysis. It explores the use of generative grammar to identify specific<br>sequences and structures in genetic material, and the potential for<br>understanding the evolution of nucleic acid sequences through linguistic<br>analysis.",
          "<b>Evolution of Nucleic Acid Sequences</b><br>The text discusses the approach for understanding the evolution of nucleic acid<br>sequences, suggesting that the first sequences were likely random and regular<br>languages. It raises the question of which string operations do not promote<br>regular languages and context-free languages into more powerful linguistic<br>categories."
         ],
         "marker": {
          "color": [
           2,
           0,
           1,
           1,
           2,
           1,
           0,
           0,
           0,
           4,
           2,
           2,
           2,
           2,
           2,
           3,
           3,
           4,
           3,
           4,
           4,
           1,
           5,
           4,
           4,
           5,
           5,
           5,
           5,
           6,
           6,
           6,
           6,
           6
          ],
          "colorscale": [
           [
            0,
            "#440154"
           ],
           [
            0.1111111111111111,
            "#482878"
           ],
           [
            0.2222222222222222,
            "#3e4989"
           ],
           [
            0.3333333333333333,
            "#31688e"
           ],
           [
            0.4444444444444444,
            "#26828e"
           ],
           [
            0.5555555555555556,
            "#1f9e89"
           ],
           [
            0.6666666666666666,
            "#35b779"
           ],
           [
            0.7777777777777778,
            "#6ece58"
           ],
           [
            0.8888888888888888,
            "#b5de2b"
           ],
           [
            1,
            "#fde725"
           ]
          ],
          "showscale": true,
          "size": 16
         },
         "mode": "markers",
         "text": [
          "A Computational and Engineering View of Biology",
          "Abstractions in Computer Science and Biological Information",
          "Biological Information and Complexity",
          "Biological Information Processing",
          "Biological Circuits and Computational Processes",
          "Functional Equivalence and Computation in Biology",
          "Complex Regulatory Networks in Biological Systems",
          "Biological Organisms as Engineered Entities",
          "Biological Systems and Engineering",
          "Biological Organisms and Reverse Engineering",
          "Systems Biology and Reverse Engineering",
          "Reverse Engineering in Biology",
          "Functional Modules in Biology",
          "Biological Systems and Modular Functionality",
          "Biological Modules and Their Functions",
          "Biological Modularity and Quality Control Systems",
          "Genetic Networks and Building Blocks",
          "Biological Network Modules and Motifs",
          "Genomic Regulatory Network for Development",
          "Computational and Engineering View of Biology",
          "Biological Robustness and Engineering Approaches",
          "Biological Systems and Engineering Approaches",
          "Robustness and Evolution in Biological Systems",
          "Biological Robustness and Noise",
          "Robustness in Biological Systems",
          "Biological Mechanisms for Dealing with Noise",
          "Canalization and the Connectivity of Transcriptional Regulatory Networks",
          "Biological Significance of Canalization and the Role of Noise",
          "Biological Robustness and Computational Metaphor",
          "Metaphors in Biology and Computing",
          "Computational and Engineering View of Biology",
          "Principles of Operation for Multicellular Organisms and Networked Computing",
          "Linguistics of DNA",
          "Evolution of Nucleic Acid Sequences"
         ],
         "type": "scatter",
         "x": [
          5.559805095497278,
          1.2636586838592376,
          -7.122252189161015,
          -6.538855063623,
          -9.74762542279419,
          -1.9587973804506338,
          -6.471637444829103,
          1.1047001400582694,
          -4.660894576680452,
          7.097873633275479,
          -9.220645649136605,
          1.8345796474549505,
          -10.422059618005635,
          -9.891693014868096,
          6.7195222973971305,
          2.2453091715786817,
          -2.056890763780537,
          0.3693440473162619,
          -4.07722722809258,
          7.245803747250085,
          -0.5134984674429341,
          3.883862230068621,
          3.756418426857267,
          12.663840779981468,
          2.9025356792987647,
          3.3958766177473825,
          3.6760301464025424,
          1.0472638963699876,
          4.008510826325146,
          3.651269641385154,
          2.4878107121620414,
          -2.236942255595049,
          -3.3300966965171024,
          3.3351003506911807
         ],
         "y": [
          -1.3995716337152926,
          4.984969388230639,
          -9.512272485205067,
          -5.886671666255621,
          10.785574107772225,
          -8.74387913655824,
          0.7340348224433585,
          -1.5486701704029733,
          -5.177302283532408,
          2.921717129843965,
          6.950005805443976,
          4.678945746711803,
          -2.4172910038131805,
          -0.42557951862686794,
          -10.683872298261509,
          0.24545934838578473,
          5.2054262027581375,
          -4.547612462455976,
          2.8477418959795315,
          -1.1309442922325752,
          -1.1844343666118837,
          4.257832002783539,
          -0.3589151590575081,
          1.0490409333294743,
          -9.922680659063937,
          5.281595884036574,
          0.0708547897691039,
          9.93084767530904,
          -1.5947582426833038,
          3.308822856959412,
          1.771339266896577,
          3.1251128980709675,
          -8.168111094462327,
          4.553245718214562
         ]
        }
       ],
       "layout": {
        "template": {
         "data": {
          "bar": [
           {
            "error_x": {
             "color": "#2a3f5f"
            },
            "error_y": {
             "color": "#2a3f5f"
            },
            "marker": {
             "line": {
              "color": "#E5ECF6",
              "width": 0.5
             },
             "pattern": {
              "fillmode": "overlay",
              "size": 10,
              "solidity": 0.2
             }
            },
            "type": "bar"
           }
          ],
          "barpolar": [
           {
            "marker": {
             "line": {
              "color": "#E5ECF6",
              "width": 0.5
             },
             "pattern": {
              "fillmode": "overlay",
              "size": 10,
              "solidity": 0.2
             }
            },
            "type": "barpolar"
           }
          ],
          "carpet": [
           {
            "aaxis": {
             "endlinecolor": "#2a3f5f",
             "gridcolor": "white",
             "linecolor": "white",
             "minorgridcolor": "white",
             "startlinecolor": "#2a3f5f"
            },
            "baxis": {
             "endlinecolor": "#2a3f5f",
             "gridcolor": "white",
             "linecolor": "white",
             "minorgridcolor": "white",
             "startlinecolor": "#2a3f5f"
            },
            "type": "carpet"
           }
          ],
          "choropleth": [
           {
            "colorbar": {
             "outlinewidth": 0,
             "ticks": ""
            },
            "type": "choropleth"
           }
          ],
          "contour": [
           {
            "colorbar": {
             "outlinewidth": 0,
             "ticks": ""
            },
            "colorscale": [
             [
              0,
              "#0d0887"
             ],
             [
              0.1111111111111111,
              "#46039f"
             ],
             [
              0.2222222222222222,
              "#7201a8"
             ],
             [
              0.3333333333333333,
              "#9c179e"
             ],
             [
              0.4444444444444444,
              "#bd3786"
             ],
             [
              0.5555555555555556,
              "#d8576b"
             ],
             [
              0.6666666666666666,
              "#ed7953"
             ],
             [
              0.7777777777777778,
              "#fb9f3a"
             ],
             [
              0.8888888888888888,
              "#fdca26"
             ],
             [
              1,
              "#f0f921"
             ]
            ],
            "type": "contour"
           }
          ],
          "contourcarpet": [
           {
            "colorbar": {
             "outlinewidth": 0,
             "ticks": ""
            },
            "type": "contourcarpet"
           }
          ],
          "heatmap": [
           {
            "colorbar": {
             "outlinewidth": 0,
             "ticks": ""
            },
            "colorscale": [
             [
              0,
              "#0d0887"
             ],
             [
              0.1111111111111111,
              "#46039f"
             ],
             [
              0.2222222222222222,
              "#7201a8"
             ],
             [
              0.3333333333333333,
              "#9c179e"
             ],
             [
              0.4444444444444444,
              "#bd3786"
             ],
             [
              0.5555555555555556,
              "#d8576b"
             ],
             [
              0.6666666666666666,
              "#ed7953"
             ],
             [
              0.7777777777777778,
              "#fb9f3a"
             ],
             [
              0.8888888888888888,
              "#fdca26"
             ],
             [
              1,
              "#f0f921"
             ]
            ],
            "type": "heatmap"
           }
          ],
          "heatmapgl": [
           {
            "colorbar": {
             "outlinewidth": 0,
             "ticks": ""
            },
            "colorscale": [
             [
              0,
              "#0d0887"
             ],
             [
              0.1111111111111111,
              "#46039f"
             ],
             [
              0.2222222222222222,
              "#7201a8"
             ],
             [
              0.3333333333333333,
              "#9c179e"
             ],
             [
              0.4444444444444444,
              "#bd3786"
             ],
             [
              0.5555555555555556,
              "#d8576b"
             ],
             [
              0.6666666666666666,
              "#ed7953"
             ],
             [
              0.7777777777777778,
              "#fb9f3a"
             ],
             [
              0.8888888888888888,
              "#fdca26"
             ],
             [
              1,
              "#f0f921"
             ]
            ],
            "type": "heatmapgl"
           }
          ],
          "histogram": [
           {
            "marker": {
             "pattern": {
              "fillmode": "overlay",
              "size": 10,
              "solidity": 0.2
             }
            },
            "type": "histogram"
           }
          ],
          "histogram2d": [
           {
            "colorbar": {
             "outlinewidth": 0,
             "ticks": ""
            },
            "colorscale": [
             [
              0,
              "#0d0887"
             ],
             [
              0.1111111111111111,
              "#46039f"
             ],
             [
              0.2222222222222222,
              "#7201a8"
             ],
             [
              0.3333333333333333,
              "#9c179e"
             ],
             [
              0.4444444444444444,
              "#bd3786"
             ],
             [
              0.5555555555555556,
              "#d8576b"
             ],
             [
              0.6666666666666666,
              "#ed7953"
             ],
             [
              0.7777777777777778,
              "#fb9f3a"
             ],
             [
              0.8888888888888888,
              "#fdca26"
             ],
             [
              1,
              "#f0f921"
             ]
            ],
            "type": "histogram2d"
           }
          ],
          "histogram2dcontour": [
           {
            "colorbar": {
             "outlinewidth": 0,
             "ticks": ""
            },
            "colorscale": [
             [
              0,
              "#0d0887"
             ],
             [
              0.1111111111111111,
              "#46039f"
             ],
             [
              0.2222222222222222,
              "#7201a8"
             ],
             [
              0.3333333333333333,
              "#9c179e"
             ],
             [
              0.4444444444444444,
              "#bd3786"
             ],
             [
              0.5555555555555556,
              "#d8576b"
             ],
             [
              0.6666666666666666,
              "#ed7953"
             ],
             [
              0.7777777777777778,
              "#fb9f3a"
             ],
             [
              0.8888888888888888,
              "#fdca26"
             ],
             [
              1,
              "#f0f921"
             ]
            ],
            "type": "histogram2dcontour"
           }
          ],
          "mesh3d": [
           {
            "colorbar": {
             "outlinewidth": 0,
             "ticks": ""
            },
            "type": "mesh3d"
           }
          ],
          "parcoords": [
           {
            "line": {
             "colorbar": {
              "outlinewidth": 0,
              "ticks": ""
             }
            },
            "type": "parcoords"
           }
          ],
          "pie": [
           {
            "automargin": true,
            "type": "pie"
           }
          ],
          "scatter": [
           {
            "fillpattern": {
             "fillmode": "overlay",
             "size": 10,
             "solidity": 0.2
            },
            "type": "scatter"
           }
          ],
          "scatter3d": [
           {
            "line": {
             "colorbar": {
              "outlinewidth": 0,
              "ticks": ""
             }
            },
            "marker": {
             "colorbar": {
              "outlinewidth": 0,
              "ticks": ""
             }
            },
            "type": "scatter3d"
           }
          ],
          "scattercarpet": [
           {
            "marker": {
             "colorbar": {
              "outlinewidth": 0,
              "ticks": ""
             }
            },
            "type": "scattercarpet"
           }
          ],
          "scattergeo": [
           {
            "marker": {
             "colorbar": {
              "outlinewidth": 0,
              "ticks": ""
             }
            },
            "type": "scattergeo"
           }
          ],
          "scattergl": [
           {
            "marker": {
             "colorbar": {
              "outlinewidth": 0,
              "ticks": ""
             }
            },
            "type": "scattergl"
           }
          ],
          "scattermapbox": [
           {
            "marker": {
             "colorbar": {
              "outlinewidth": 0,
              "ticks": ""
             }
            },
            "type": "scattermapbox"
           }
          ],
          "scatterpolar": [
           {
            "marker": {
             "colorbar": {
              "outlinewidth": 0,
              "ticks": ""
             }
            },
            "type": "scatterpolar"
           }
          ],
          "scatterpolargl": [
           {
            "marker": {
             "colorbar": {
              "outlinewidth": 0,
              "ticks": ""
             }
            },
            "type": "scatterpolargl"
           }
          ],
          "scatterternary": [
           {
            "marker": {
             "colorbar": {
              "outlinewidth": 0,
              "ticks": ""
             }
            },
            "type": "scatterternary"
           }
          ],
          "surface": [
           {
            "colorbar": {
             "outlinewidth": 0,
             "ticks": ""
            },
            "colorscale": [
             [
              0,
              "#0d0887"
             ],
             [
              0.1111111111111111,
              "#46039f"
             ],
             [
              0.2222222222222222,
              "#7201a8"
             ],
             [
              0.3333333333333333,
              "#9c179e"
             ],
             [
              0.4444444444444444,
              "#bd3786"
             ],
             [
              0.5555555555555556,
              "#d8576b"
             ],
             [
              0.6666666666666666,
              "#ed7953"
             ],
             [
              0.7777777777777778,
              "#fb9f3a"
             ],
             [
              0.8888888888888888,
              "#fdca26"
             ],
             [
              1,
              "#f0f921"
             ]
            ],
            "type": "surface"
           }
          ],
          "table": [
           {
            "cells": {
             "fill": {
              "color": "#EBF0F8"
             },
             "line": {
              "color": "white"
             }
            },
            "header": {
             "fill": {
              "color": "#C8D4E3"
             },
             "line": {
              "color": "white"
             }
            },
            "type": "table"
           }
          ]
         },
         "layout": {
          "annotationdefaults": {
           "arrowcolor": "#2a3f5f",
           "arrowhead": 0,
           "arrowwidth": 1
          },
          "autotypenumbers": "strict",
          "coloraxis": {
           "colorbar": {
            "outlinewidth": 0,
            "ticks": ""
           }
          },
          "colorscale": {
           "diverging": [
            [
             0,
             "#8e0152"
            ],
            [
             0.1,
             "#c51b7d"
            ],
            [
             0.2,
             "#de77ae"
            ],
            [
             0.3,
             "#f1b6da"
            ],
            [
             0.4,
             "#fde0ef"
            ],
            [
             0.5,
             "#f7f7f7"
            ],
            [
             0.6,
             "#e6f5d0"
            ],
            [
             0.7,
             "#b8e186"
            ],
            [
             0.8,
             "#7fbc41"
            ],
            [
             0.9,
             "#4d9221"
            ],
            [
             1,
             "#276419"
            ]
           ],
           "sequential": [
            [
             0,
             "#0d0887"
            ],
            [
             0.1111111111111111,
             "#46039f"
            ],
            [
             0.2222222222222222,
             "#7201a8"
            ],
            [
             0.3333333333333333,
             "#9c179e"
            ],
            [
             0.4444444444444444,
             "#bd3786"
            ],
            [
             0.5555555555555556,
             "#d8576b"
            ],
            [
             0.6666666666666666,
             "#ed7953"
            ],
            [
             0.7777777777777778,
             "#fb9f3a"
            ],
            [
             0.8888888888888888,
             "#fdca26"
            ],
            [
             1,
             "#f0f921"
            ]
           ],
           "sequentialminus": [
            [
             0,
             "#0d0887"
            ],
            [
             0.1111111111111111,
             "#46039f"
            ],
            [
             0.2222222222222222,
             "#7201a8"
            ],
            [
             0.3333333333333333,
             "#9c179e"
            ],
            [
             0.4444444444444444,
             "#bd3786"
            ],
            [
             0.5555555555555556,
             "#d8576b"
            ],
            [
             0.6666666666666666,
             "#ed7953"
            ],
            [
             0.7777777777777778,
             "#fb9f3a"
            ],
            [
             0.8888888888888888,
             "#fdca26"
            ],
            [
             1,
             "#f0f921"
            ]
           ]
          },
          "colorway": [
           "#636efa",
           "#EF553B",
           "#00cc96",
           "#ab63fa",
           "#FFA15A",
           "#19d3f3",
           "#FF6692",
           "#B6E880",
           "#FF97FF",
           "#FECB52"
          ],
          "font": {
           "color": "#2a3f5f"
          },
          "geo": {
           "bgcolor": "white",
           "lakecolor": "white",
           "landcolor": "#E5ECF6",
           "showlakes": true,
           "showland": true,
           "subunitcolor": "white"
          },
          "hoverlabel": {
           "align": "left"
          },
          "hovermode": "closest",
          "mapbox": {
           "style": "light"
          },
          "paper_bgcolor": "white",
          "plot_bgcolor": "#E5ECF6",
          "polar": {
           "angularaxis": {
            "gridcolor": "white",
            "linecolor": "white",
            "ticks": ""
           },
           "bgcolor": "#E5ECF6",
           "radialaxis": {
            "gridcolor": "white",
            "linecolor": "white",
            "ticks": ""
           }
          },
          "scene": {
           "xaxis": {
            "backgroundcolor": "#E5ECF6",
            "gridcolor": "white",
            "gridwidth": 2,
            "linecolor": "white",
            "showbackground": true,
            "ticks": "",
            "zerolinecolor": "white"
           },
           "yaxis": {
            "backgroundcolor": "#E5ECF6",
            "gridcolor": "white",
            "gridwidth": 2,
            "linecolor": "white",
            "showbackground": true,
            "ticks": "",
            "zerolinecolor": "white"
           },
           "zaxis": {
            "backgroundcolor": "#E5ECF6",
            "gridcolor": "white",
            "gridwidth": 2,
            "linecolor": "white",
            "showbackground": true,
            "ticks": "",
            "zerolinecolor": "white"
           }
          },
          "shapedefaults": {
           "line": {
            "color": "#2a3f5f"
           }
          },
          "ternary": {
           "aaxis": {
            "gridcolor": "white",
            "linecolor": "white",
            "ticks": ""
           },
           "baxis": {
            "gridcolor": "white",
            "linecolor": "white",
            "ticks": ""
           },
           "bgcolor": "#E5ECF6",
           "caxis": {
            "gridcolor": "white",
            "linecolor": "white",
            "ticks": ""
           }
          },
          "title": {
           "x": 0.05
          },
          "xaxis": {
           "automargin": true,
           "gridcolor": "white",
           "linecolor": "white",
           "ticks": "",
           "title": {
            "standoff": 15
           },
           "zerolinecolor": "white",
           "zerolinewidth": 2
          },
          "yaxis": {
           "automargin": true,
           "gridcolor": "white",
           "linecolor": "white",
           "ticks": "",
           "title": {
            "standoff": 15
           },
           "zerolinecolor": "white",
           "zerolinewidth": 2
          }
         }
        },
        "xaxis": {
         "scaleanchor": "y",
         "scaleratio": 1
        },
        "yaxis": {
         "scaleanchor": "x",
         "scaleratio": 1
        }
       }
      }
     },
     "metadata": {},
     "output_type": "display_data"
    }
   ],
   "source": [
    "# plot pca\n",
    "fig = go.Figure(data=go.Scatter(\n",
    "  x=pca_obj[:, 0],\n",
    "  y=pca_obj[:, 1],\n",
    "  mode='markers',\n",
    "  text=titles,\n",
    "  hovertext=formatted_summaries,  # Add summaries as hover text\n",
    "  marker=dict(\n",
    "    size=16,\n",
    "    color=summary_obj.chunk_topics, # set color equal to a variable\n",
    "    colorscale='Viridis', # one of plotly colorscales\n",
    "    showscale=True\n",
    "  )\n",
    "))\n",
    "fig.update_layout(xaxis=dict(scaleanchor=\"y\", scaleratio=1), yaxis=dict(scaleanchor=\"x\", scaleratio=1))"
   ]
  },
  {
   "cell_type": "code",
   "execution_count": 97,
   "metadata": {},
   "outputs": [],
   "source": [
    "fig.write_html(f'pca_v{VERSION}.html', auto_open=True)"
   ]
  },
  {
   "cell_type": "code",
   "execution_count": null,
   "metadata": {},
   "outputs": [],
   "source": []
  }
 ],
 "metadata": {
  "kernelspec": {
   "display_name": "Python 3",
   "language": "python",
   "name": "python3"
  },
  "language_info": {
   "codemirror_mode": {
    "name": "ipython",
    "version": 3
   },
   "file_extension": ".py",
   "mimetype": "text/x-python",
   "name": "python",
   "nbconvert_exporter": "python",
   "pygments_lexer": "ipython3",
   "version": "3.11.6"
  }
 },
 "nbformat": 4,
 "nbformat_minor": 2
}
