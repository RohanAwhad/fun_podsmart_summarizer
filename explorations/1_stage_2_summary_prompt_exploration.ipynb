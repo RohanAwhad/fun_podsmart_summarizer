{
 "cells": [
  {
   "cell_type": "code",
   "execution_count": 2,
   "metadata": {},
   "outputs": [],
   "source": [
    "from openai import OpenAI\n",
    "import os"
   ]
  },
  {
   "cell_type": "code",
   "execution_count": 3,
   "metadata": {},
   "outputs": [],
   "source": [
    "gpt_client = OpenAI()\n",
    "together_client = OpenAI(\n",
    "  api_key=os.environ.get(\"TOGETHER_API_KEY\"),\n",
    "  base_url='https://api.together.xyz',\n",
    ")"
   ]
  },
  {
   "cell_type": "code",
   "execution_count": 8,
   "metadata": {},
   "outputs": [],
   "source": [
    "prompt_0 = '''Wite a 75-100 word summary of the following text:\n",
    "{text}\n",
    "\n",
    "CONCISE SUMMARY:'''\n",
    "text = '''Genetic algorithms (GAs) are used to solve complex computational problems by mimicking the process of natural selection. GAs are often used to search through a vast number of possibilities for solutions, taking advantage of parallelism and adaptive strategies. The rules of evolution, such as random variation and natural selection, can inspire computational search methods for adaptive computer programs. The book uses biological terminology in the context of GAs, such as chromosomes, genes, genotype, and phenotype, to describe the entities and processes involved. Hillis modified a genetic algorithm (GA) system to include coevolution of a population of networks and parasites on the same grid. The fitness of a network is determined by the parasite located at its grid location, and vice versa. The evolving population of test cases provides increasing challenges to the evolving population of networks, forcing them to keep changing and discover new sorting strategies. The GA discovers correct networks with only 61 comparisons through coevolution, a real improvement over the best networks discovered without coevolution. The number of possible bit strings of length l is 2^l, and the number of possible subsets of strings is 2^(2^l). However, there are only 3^l possible schemas. A given bit string of length l is an instance of 2^l different schemas. The Schema Theorem, introduced by John Holland, is a mathematical result that describes the growth of a schema from one generation to the next in a genetic algorithm (GA). The theorem deals only with the destructive effects of crossover and mutation, and does not account for the constructive power of crossover in recombining instances of good schemas to form better ones. The Building Block Hypothesis, proposed by Goldberg, suggests that crossover is the major source of the GA's power, and that it works by recombining instances of good schemas to form better ones. Mutation in a GA provides an \"insurance policy\" against the loss of diversity at a given bit position, and prevents every string in the population from having the same value at that position. The Schema Theorem and the Building Block Hypothesis deal primarily with the roles of selection and crossover in GAs, and do not fully address the role of mutation.'''"
   ]
  },
  {
   "cell_type": "code",
   "execution_count": 6,
   "metadata": {},
   "outputs": [
    {
     "name": "stdout",
     "output_type": "stream",
     "text": [
      "---\n",
      "Input:\n",
      "---\n",
      "Wite a 75-100 word summary of the following text:\n",
      "Genetic algorithms (GAs) are used to solve complex computational problems by mimicking the process of natural selection. GAs are often used to search through a vast number of possibilities for solutions, taking advantage of parallelism and adaptive strategies. The rules of evolution, such as random variation and natural selection, can inspire computational search methods for adaptive computer programs. The book uses biological terminology in the context of GAs, such as chromosomes, genes, genotype, and phenotype, to describe the entities and processes involved. Hillis modified a genetic algorithm (GA) system to include coevolution of a population of networks and parasites on the same grid. The fitness of a network is determined by the parasite located at its grid location, and vice versa. The evolving population of test cases provides increasing challenges to the evolving population of networks, forcing them to keep changing and discover new sorting strategies. The GA discovers correct networks with only 61 comparisons through coevolution, a real improvement over the best networks discovered without coevolution. The number of possible bit strings of length l is 2^l, and the number of possible subsets of strings is 2^(2^l). However, there are only 3^l possible schemas. A given bit string of length l is an instance of 2^l different schemas. The Schema Theorem, introduced by John Holland, is a mathematical result that describes the growth of a schema from one generation to the next in a genetic algorithm (GA). The theorem deals only with the destructive effects of crossover and mutation, and does not account for the constructive power of crossover in recombining instances of good schemas to form better ones. The Building Block Hypothesis, proposed by Goldberg, suggests that crossover is the major source of the GA's power, and that it works by recombining instances of good schemas to form better ones. Mutation in a GA provides an \"insurance policy\" against the loss of diversity at a given bit position, and prevents every string in the population from having the same value at that position. The Schema Theorem and the Building Block Hypothesis deal primarily with the roles of selection and crossover in GAs, and do not fully address the role of mutation.\n",
      "\n",
      "CONCISE SUMMARY:\n",
      "---\n",
      "Output:\n",
      "---\n",
      "Genetic algorithms (GAs) are computational techniques that emulate natural selection to solve complex problems by exploring a multitude of potential solutions. They utilize biological concepts such as chromosomes and genes to evolve solutions, adapting over time. Hillis demonstrated the effectiveness of GAs through coevolution, where networks and parasites evolve together, leading to more efficient problem-solving. The Schema Theorem and Building Block Hypothesis explain the mechanics of GAs, highlighting the importance of crossover and mutation in maintaining diversity and combining good solutions to create better ones. Mutation acts as a safeguard against uniformity, ensuring a diverse pool of solutions.\n"
     ]
    }
   ],
   "source": [
    "print('---')\n",
    "print('Input:')\n",
    "print('---')\n",
    "print(prompt_0.format(text=text))\n",
    "\n",
    "res = gpt_client.chat.completions.create(\n",
    "  model=\"gpt-4-1106-preview\",\n",
    "  messages=[{'role': 'user', 'content': prompt_0.format(text=text)}],\n",
    "  temperature=0.4,\n",
    "  max_tokens=1024,\n",
    "  top_p=0.6,\n",
    ")\n",
    "\n",
    "print('---')\n",
    "print('Output:')\n",
    "print('---')\n",
    "print(res.choices[0].message.content)"
   ]
  },
  {
   "cell_type": "code",
   "execution_count": 5,
   "metadata": {},
   "outputs": [
    {
     "name": "stdout",
     "output_type": "stream",
     "text": [
      "---\n",
      "Input:\n",
      "---\n",
      "<s> [INST]\n",
      "Wite a 75-100 word summary of the following text:\n",
      "Genetic algorithms (GAs) are used to solve complex computational problems by mimicking the process of natural selection. GAs are often used to search through a vast number of possibilities for solutions, taking advantage of parallelism and adaptive strategies. The rules of evolution, such as random variation and natural selection, can inspire computational search methods for adaptive computer programs. The book uses biological terminology in the context of GAs, such as chromosomes, genes, genotype, and phenotype, to describe the entities and processes involved. Hillis modified a genetic algorithm (GA) system to include coevolution of a population of networks and parasites on the same grid. The fitness of a network is determined by the parasite located at its grid location, and vice versa. The evolving population of test cases provides increasing challenges to the evolving population of networks, forcing them to keep changing and discover new sorting strategies. The GA discovers correct networks with only 61 comparisons through coevolution, a real improvement over the best networks discovered without coevolution. The number of possible bit strings of length l is 2^l, and the number of possible subsets of strings is 2^(2^l). However, there are only 3^l possible schemas. A given bit string of length l is an instance of 2^l different schemas. The Schema Theorem, introduced by John Holland, is a mathematical result that describes the growth of a schema from one generation to the next in a genetic algorithm (GA). The theorem deals only with the destructive effects of crossover and mutation, and does not account for the constructive power of crossover in recombining instances of good schemas to form better ones. The Building Block Hypothesis, proposed by Goldberg, suggests that crossover is the major source of the GA's power, and that it works by recombining instances of good schemas to form better ones. Mutation in a GA provides an \"insurance policy\" against the loss of diversity at a given bit position, and prevents every string in the population from having the same value at that position. The Schema Theorem and the Building Block Hypothesis deal primarily with the roles of selection and crossover in GAs, and do not fully address the role of mutation.\n",
      "\n",
      "CONCISE SUMMARY:\n",
      "[/INST]\n",
      "---\n",
      "Output:\n",
      "---\n",
      "Genetic Algorithms (GAs) are computational problem-solving methods that mimic natural selection. They are used to search through a vast number of possibilities, taking advantage of parallelism and adaptive strategies. The entities and processes in GAs are described using biological terminology such as chromosomes, genes, genotype, and phenotype. Coevolution of a population of networks and parasites was modified in a GA system by Hillis, which led to the discovery of correct networks with only 61 comparisons. The Schema Theorem and Building Block Hypothesis are two significant concepts in GAs, which describe the roles of selection, crossover, and mutation. However, these concepts primarily focus on selection and crossover and do not fully address the role of mutation.\n"
     ]
    }
   ],
   "source": [
    "mistral_prompt_0 = '''[INST]\n",
    "{original_prompt}\n",
    "[/INST]'''\n",
    "mistral_prompt_0 = mistral_prompt_0.format(original_prompt=prompt_0.format(text=text))\n",
    "print('---')\n",
    "print('Input:')\n",
    "print('---')\n",
    "print(mistral_prompt_0)\n",
    "\n",
    "mistral_res = together_client.chat.completions.create(\n",
    "  model=\"mistralai/Mixtral-8x7B-Instruct-v0.1\",\n",
    "  messages=[{'role': 'user', 'content': mistral_prompt_0}],\n",
    "  temperature=0.4,\n",
    "  max_tokens=1024,\n",
    "  top_p=0.6,\n",
    ")\n",
    "\n",
    "print('---')\n",
    "print('Output:')\n",
    "print('---')\n",
    "print(mistral_res.choices[0].message.content)"
   ]
  },
  {
   "cell_type": "code",
   "execution_count": 17,
   "metadata": {},
   "outputs": [],
   "source": [
    "prompt_1 = (\n",
    "  'Write a concise summary for text enclosed in triple backticks (```)\\n'\n",
    "  '- Output the summary in bullet points.\\n'\n",
    "  '- Each point should contain no more than 2 sentences.\\n'\n",
    "  '- Keep the summary concise.\\n'\n",
    "  '- Points should not contain redundant information.\\n'\n",
    "  '- Do not use pronouns. Resolve coreference and use proper nouns or common nouns.\\n'\n",
    "  '- Summary should be grammatically correct.\\n'\n",
    "  '\\n'\n",
    "  '```\\n'\n",
    "  '{text}\\n'\n",
    "  '```\\n'\n",
    "  '\\n'\n",
    "  '---\\n'\n",
    "  'Concise Summary:\\n'\n",
    ")"
   ]
  },
  {
   "cell_type": "code",
   "execution_count": 16,
   "metadata": {},
   "outputs": [
    {
     "name": "stdout",
     "output_type": "stream",
     "text": [
      "---\n",
      "Input:\n",
      "---\n",
      "Write a concise summary for text enclosed in triple backticks (```)\n",
      "- Output the summary in bullet points.\n",
      "- Each point should contain no more than 2 sentences.\n",
      "- Keep the summary concise.\n",
      "- Points should not contain redundant information.\n",
      "- Do not use pronouns. Resolve coreference and use proper nouns or common nouns.\n",
      "- Summary should be grammatically correct.\n",
      "\n",
      "```\n",
      "Genetic algorithms (GAs) are used to solve complex computational problems by mimicking the process of natural selection. GAs are often used to search through a vast number of possibilities for solutions, taking advantage of parallelism and adaptive strategies. The rules of evolution, such as random variation and natural selection, can inspire computational search methods for adaptive computer programs. The book uses biological terminology in the context of GAs, such as chromosomes, genes, genotype, and phenotype, to describe the entities and processes involved. Hillis modified a genetic algorithm (GA) system to include coevolution of a population of networks and parasites on the same grid. The fitness of a network is determined by the parasite located at its grid location, and vice versa. The evolving population of test cases provides increasing challenges to the evolving population of networks, forcing them to keep changing and discover new sorting strategies. The GA discovers correct networks with only 61 comparisons through coevolution, a real improvement over the best networks discovered without coevolution. The number of possible bit strings of length l is 2^l, and the number of possible subsets of strings is 2^(2^l). However, there are only 3^l possible schemas. A given bit string of length l is an instance of 2^l different schemas. The Schema Theorem, introduced by John Holland, is a mathematical result that describes the growth of a schema from one generation to the next in a genetic algorithm (GA). The theorem deals only with the destructive effects of crossover and mutation, and does not account for the constructive power of crossover in recombining instances of good schemas to form better ones. The Building Block Hypothesis, proposed by Goldberg, suggests that crossover is the major source of the GA's power, and that it works by recombining instances of good schemas to form better ones. Mutation in a GA provides an \"insurance policy\" against the loss of diversity at a given bit position, and prevents every string in the population from having the same value at that position. The Schema Theorem and the Building Block Hypothesis deal primarily with the roles of selection and crossover in GAs, and do not fully address the role of mutation.\n",
      "```\n",
      "\n",
      "---\n",
      "Concise Summary:\n",
      "\n",
      "---\n",
      "Output:\n",
      "---\n",
      "- Genetic algorithms (GAs) solve complex problems by emulating natural selection, utilizing parallelism and adaptive strategies.\n",
      "- The book applies biological terms like chromosomes and genes to describe entities in GAs.\n",
      "- Hillis improved a GA by coevolving networks and parasites, leading to more efficient network solutions with only 61 comparisons.\n",
      "- The number of possible bit strings of length l is 2^l, while the number of possible schemas is 3^l.\n",
      "- John Holland's Schema Theorem describes the propagation of schemas in GAs, focusing on the negative impacts of crossover and mutation.\n",
      "- Goldberg's Building Block Hypothesis credits crossover as the key to GA success, through the recombination of good schemas.\n",
      "- Mutation serves as a diversity-preserving mechanism in GAs, ensuring variation at each bit position.\n"
     ]
    }
   ],
   "source": [
    "print('---')\n",
    "print('Input:')\n",
    "print('---')\n",
    "print(prompt_1.format(text=text))\n",
    "\n",
    "res = gpt_client.chat.completions.create(\n",
    "  model=\"gpt-4-1106-preview\",\n",
    "  messages=[{'role': 'user', 'content': prompt_1.format(text=text)}],\n",
    "  temperature=0,\n",
    "  max_tokens=1024,\n",
    "  top_p=0.6,\n",
    ")\n",
    "\n",
    "print('---')\n",
    "print('Output:')\n",
    "print('---')\n",
    "print(res.choices[0].message.content)"
   ]
  },
  {
   "cell_type": "code",
   "execution_count": 18,
   "metadata": {},
   "outputs": [
    {
     "name": "stdout",
     "output_type": "stream",
     "text": [
      "---\n",
      "Input:\n",
      "---\n",
      "[INST]\n",
      "Write a concise summary for text enclosed in triple backticks (```)\n",
      "- Output the summary in bullet points.\n",
      "- Each point should contain no more than 2 sentences.\n",
      "- Keep the summary concise.\n",
      "- Points should not contain redundant information.\n",
      "- Do not use pronouns. Resolve coreference and use proper nouns or common nouns.\n",
      "- Summary should be grammatically correct.\n",
      "\n",
      "```\n",
      "Genetic algorithms (GAs) are used to solve complex computational problems by mimicking the process of natural selection. GAs are often used to search through a vast number of possibilities for solutions, taking advantage of parallelism and adaptive strategies. The rules of evolution, such as random variation and natural selection, can inspire computational search methods for adaptive computer programs. The book uses biological terminology in the context of GAs, such as chromosomes, genes, genotype, and phenotype, to describe the entities and processes involved. Hillis modified a genetic algorithm (GA) system to include coevolution of a population of networks and parasites on the same grid. The fitness of a network is determined by the parasite located at its grid location, and vice versa. The evolving population of test cases provides increasing challenges to the evolving population of networks, forcing them to keep changing and discover new sorting strategies. The GA discovers correct networks with only 61 comparisons through coevolution, a real improvement over the best networks discovered without coevolution. The number of possible bit strings of length l is 2^l, and the number of possible subsets of strings is 2^(2^l). However, there are only 3^l possible schemas. A given bit string of length l is an instance of 2^l different schemas. The Schema Theorem, introduced by John Holland, is a mathematical result that describes the growth of a schema from one generation to the next in a genetic algorithm (GA). The theorem deals only with the destructive effects of crossover and mutation, and does not account for the constructive power of crossover in recombining instances of good schemas to form better ones. The Building Block Hypothesis, proposed by Goldberg, suggests that crossover is the major source of the GA's power, and that it works by recombining instances of good schemas to form better ones. Mutation in a GA provides an \"insurance policy\" against the loss of diversity at a given bit position, and prevents every string in the population from having the same value at that position. The Schema Theorem and the Building Block Hypothesis deal primarily with the roles of selection and crossover in GAs, and do not fully address the role of mutation.\n",
      "```\n",
      "\n",
      "---\n",
      "Concise Summary:\n",
      "\n",
      "[/INST]\n",
      "---\n",
      "Output:\n",
      "---\n",
      "- Genetic algorithms (GAs) are computational methods that mimic natural selection to solve complex problems.\n",
      "- GAs use biological terminology such as chromosomes, genes, genotype, and phenotype.\n",
      "- Coevolution of a population of networks and parasites was introduced by Hillis to improve GAs.\n",
      "- The Schema Theorem by John Holland describes the growth of a schema from one generation to the next in GAs.\n",
      "- The Building Block Hypothesis proposed by Goldberg suggests that crossover is the major source of GA's power.\n",
      "- Mutation in a GA provides diversity and prevents every string in the population from having the same value at a given bit position.\n",
      "- The Schema Theorem and the Building Block Hypothesis mainly focus on the roles of selection and crossover in GAs.\n"
     ]
    }
   ],
   "source": [
    "mistral_prompt_0 = '''[INST]\n",
    "{original_prompt}\n",
    "[/INST]'''\n",
    "mistral_input = mistral_prompt_0.format(original_prompt=prompt_1.format(text=text))\n",
    "print('---')\n",
    "print('Input:')\n",
    "print('---')\n",
    "print(mistral_input)\n",
    "\n",
    "mistral_res = together_client.chat.completions.create(\n",
    "  model=\"mistralai/Mixtral-8x7B-Instruct-v0.1\",\n",
    "  messages=[{'role': 'user', 'content': mistral_input}],\n",
    "  temperature=0.4,\n",
    "  max_tokens=1024,\n",
    "  top_p=0.6,\n",
    ")\n",
    "\n",
    "print('---')\n",
    "print('Output:')\n",
    "print('---')\n",
    "print(mistral_res.choices[0].message.content)"
   ]
  },
  {
   "cell_type": "code",
   "execution_count": 19,
   "metadata": {},
   "outputs": [
    {
     "data": {
      "text/plain": [
       "(2698, 763)"
      ]
     },
     "execution_count": 19,
     "metadata": {},
     "output_type": "execute_result"
    }
   ],
   "source": [
    "len(mistral_input), len(mistral_res.choices[0].message.content)"
   ]
  },
  {
   "cell_type": "code",
   "execution_count": 20,
   "metadata": {},
   "outputs": [
    {
     "name": "stdout",
     "output_type": "stream",
     "text": [
      "---\n",
      "Input:\n",
      "---\n",
      "[INST]\n",
      "Write a concise summary for text enclosed in triple backticks (```)\n",
      "- Output the summary in bullet points.\n",
      "- Each point should contain no more than 2 sentences.\n",
      "- Keep the summary concise.\n",
      "- Points should not contain redundant information.\n",
      "- Do not use pronouns. Resolve coreference and use proper nouns or common nouns.\n",
      "- Summary should be grammatically correct.\n",
      "\n",
      "```\n",
      "Genetic algorithms (GAs) are used to solve complex computational problems by mimicking the process of natural selection. GAs are often used to search through a vast number of possibilities for solutions, taking advantage of parallelism and adaptive strategies. The rules of evolution, such as random variation and natural selection, can inspire computational search methods for adaptive computer programs. The book uses biological terminology in the context of GAs, such as chromosomes, genes, genotype, and phenotype, to describe the entities and processes involved. Hillis modified a genetic algorithm (GA) system to include coevolution of a population of networks and parasites on the same grid. The fitness of a network is determined by the parasite located at its grid location, and vice versa. The evolving population of test cases provides increasing challenges to the evolving population of networks, forcing them to keep changing and discover new sorting strategies. The GA discovers correct networks with only 61 comparisons through coevolution, a real improvement over the best networks discovered without coevolution. The number of possible bit strings of length l is 2^l, and the number of possible subsets of strings is 2^(2^l). However, there are only 3^l possible schemas. A given bit string of length l is an instance of 2^l different schemas. The Schema Theorem, introduced by John Holland, is a mathematical result that describes the growth of a schema from one generation to the next in a genetic algorithm (GA). The theorem deals only with the destructive effects of crossover and mutation, and does not account for the constructive power of crossover in recombining instances of good schemas to form better ones. The Building Block Hypothesis, proposed by Goldberg, suggests that crossover is the major source of the GA's power, and that it works by recombining instances of good schemas to form better ones. Mutation in a GA provides an \"insurance policy\" against the loss of diversity at a given bit position, and prevents every string in the population from having the same value at that position. The Schema Theorem and the Building Block Hypothesis deal primarily with the roles of selection and crossover in GAs, and do not fully address the role of mutation.\n",
      "```\n",
      "\n",
      "---\n",
      "Concise Summary:\n",
      "\n",
      "[/INST]\n",
      "---\n",
      "Output:\n",
      "---\n",
      "- Genetic algorithms (GAs) solve complex computational problems through natural selection simulation.\n",
      "- GAs search for solutions in a vast space of possibilities, utilizing parallelism and adaptive strategies.\n",
      "- The book uses biological terminology to describe GA's entities and processes.\n",
      "- Coevolution of networks and parasites in a GA system was modified by Hillis, leading to correct networks with 61 comparisons.\n",
      "- The number of possible bit strings and subsets of strings are 2^l and 2^(2^l) respectively, while the number of possible schemas is 3^l.\n",
      "- The Schema Theorem by John Holland describes the growth of a schema from one generation to the next in GAs.\n",
      "- The Building Block Hypothesis by Goldberg proposes that crossover is the major source of GA's power.\n",
      "- Mutation in a GA serves as an \"insurance policy\" against the loss of diversity at a given bit position.\n",
      "- The Schema Theorem and Building Block Hypothesis mainly focus on the roles of selection and crossover in GAs, not fully addressing mutation's role.\n"
     ]
    }
   ],
   "source": [
    "mistral_prompt_0 = '''[INST]\n",
    "{original_prompt}\n",
    "[/INST]'''\n",
    "mistral_input = mistral_prompt_0.format(original_prompt=prompt_1.format(text=text))\n",
    "print('---')\n",
    "print('Input:')\n",
    "print('---')\n",
    "print(mistral_input)\n",
    "\n",
    "mistral_res = together_client.chat.completions.create(\n",
    "  model=\"mistralai/Mixtral-8x7B-Instruct-v0.1\",\n",
    "  messages=[{'role': 'user', 'content': mistral_input}],\n",
    "  temperature=0,\n",
    "  max_tokens=1024,\n",
    "  top_p=0.6,\n",
    ")\n",
    "\n",
    "print('---')\n",
    "print('Output:')\n",
    "print('---')\n",
    "print(mistral_res.choices[0].message.content)"
   ]
  },
  {
   "cell_type": "code",
   "execution_count": 21,
   "metadata": {},
   "outputs": [
    {
     "data": {
      "text/plain": [
       "(2698, 1025)"
      ]
     },
     "execution_count": 21,
     "metadata": {},
     "output_type": "execute_result"
    }
   ],
   "source": [
    "len(mistral_input), len(mistral_res.choices[0].message.content)"
   ]
  },
  {
   "cell_type": "code",
   "execution_count": 24,
   "metadata": {},
   "outputs": [],
   "source": [
    "prompt_2 = (\n",
    "  'Write a concise summary for text enclosed in triple backticks (```)\\n'\n",
    "  '- Output the summary in bullet points.\\n'\n",
    "  '- Each point should contain no more than 2 sentences.\\n'\n",
    "  '- Points should not contain redundant information.\\n'\n",
    "  '\\n'\n",
    "  '```\\n'\n",
    "  '{text}\\n'\n",
    "  '```\\n'\n",
    "  '\\n'\n",
    "  '---\\n'\n",
    "  'Summary:\\n'\n",
    ")"
   ]
  },
  {
   "cell_type": "code",
   "execution_count": 25,
   "metadata": {},
   "outputs": [
    {
     "name": "stdout",
     "output_type": "stream",
     "text": [
      "---\n",
      "Input:\n",
      "---\n",
      "Write a concise summary for text enclosed in triple backticks (```)\n",
      "- Output the summary in bullet points.\n",
      "- Each point should contain no more than 2 sentences.\n",
      "- Points should not contain redundant information.\n",
      "\n",
      "```\n",
      "Genetic algorithms (GAs) are used to solve complex computational problems by mimicking the process of natural selection. GAs are often used to search through a vast number of possibilities for solutions, taking advantage of parallelism and adaptive strategies. The rules of evolution, such as random variation and natural selection, can inspire computational search methods for adaptive computer programs. The book uses biological terminology in the context of GAs, such as chromosomes, genes, genotype, and phenotype, to describe the entities and processes involved. Hillis modified a genetic algorithm (GA) system to include coevolution of a population of networks and parasites on the same grid. The fitness of a network is determined by the parasite located at its grid location, and vice versa. The evolving population of test cases provides increasing challenges to the evolving population of networks, forcing them to keep changing and discover new sorting strategies. The GA discovers correct networks with only 61 comparisons through coevolution, a real improvement over the best networks discovered without coevolution. The number of possible bit strings of length l is 2^l, and the number of possible subsets of strings is 2^(2^l). However, there are only 3^l possible schemas. A given bit string of length l is an instance of 2^l different schemas. The Schema Theorem, introduced by John Holland, is a mathematical result that describes the growth of a schema from one generation to the next in a genetic algorithm (GA). The theorem deals only with the destructive effects of crossover and mutation, and does not account for the constructive power of crossover in recombining instances of good schemas to form better ones. The Building Block Hypothesis, proposed by Goldberg, suggests that crossover is the major source of the GA's power, and that it works by recombining instances of good schemas to form better ones. Mutation in a GA provides an \"insurance policy\" against the loss of diversity at a given bit position, and prevents every string in the population from having the same value at that position. The Schema Theorem and the Building Block Hypothesis deal primarily with the roles of selection and crossover in GAs, and do not fully address the role of mutation.\n",
      "```\n",
      "\n",
      "---\n",
      "Summary:\n",
      "\n",
      "---\n",
      "Output:\n",
      "---\n",
      "- Genetic algorithms (GAs) solve complex problems by simulating natural selection, using biological concepts like chromosomes and genes to represent computational entities.\n",
      "- Hillis improved a GA by introducing coevolution between networks and parasites, leading to more efficient problem-solving with fewer comparisons.\n",
      "- The number of possible bit strings of length l is exponentially larger than the number of possible schemas, with each bit string being an instance of many schemas.\n",
      "- The Schema Theorem, by John Holland, describes how schemas propagate in GAs, focusing on the negative impacts of crossover and mutation.\n",
      "- Goldberg's Building Block Hypothesis posits that the power of GAs comes from crossover recombining good schemas, while mutation maintains diversity and prevents uniformity at any bit position.\n",
      "- Both the Schema Theorem and Building Block Hypothesis emphasize selection and crossover in GAs but do not fully explore the role of mutation.\n"
     ]
    }
   ],
   "source": [
    "gpt_input = prompt_2.format(text=text)\n",
    "print('---')\n",
    "print('Input:')\n",
    "print('---')\n",
    "print(gpt_input)\n",
    "\n",
    "res = gpt_client.chat.completions.create(\n",
    "  model=\"gpt-4-1106-preview\",\n",
    "  messages=[{'role': 'user', 'content': gpt_input}],\n",
    "  temperature=0,\n",
    "  max_tokens=1024,\n",
    "  top_p=0.6,\n",
    ")\n",
    "\n",
    "print('---')\n",
    "print('Output:')\n",
    "print('---')\n",
    "display(res.choices[0].message.content)"
   ]
  },
  {
   "cell_type": "code",
   "execution_count": 26,
   "metadata": {},
   "outputs": [],
   "source": [
    "prompt_3 = (\n",
    "  'Write a concise summary for text enclosed in triple backticks (```)\\n'\n",
    "  '\\n'\n",
    "  '```\\n'\n",
    "  '{text}\\n'\n",
    "  '```\\n'\n",
    "  '\\n'\n",
    "  '---\\n'\n",
    "  'Summary:\\n'\n",
    ")"
   ]
  },
  {
   "cell_type": "code",
   "execution_count": 27,
   "metadata": {},
   "outputs": [
    {
     "name": "stdout",
     "output_type": "stream",
     "text": [
      "---\n",
      "Input:\n",
      "---\n",
      "Write a concise summary for text enclosed in triple backticks (```)\n",
      "\n",
      "```\n",
      "Genetic algorithms (GAs) are used to solve complex computational problems by mimicking the process of natural selection. GAs are often used to search through a vast number of possibilities for solutions, taking advantage of parallelism and adaptive strategies. The rules of evolution, such as random variation and natural selection, can inspire computational search methods for adaptive computer programs. The book uses biological terminology in the context of GAs, such as chromosomes, genes, genotype, and phenotype, to describe the entities and processes involved. Hillis modified a genetic algorithm (GA) system to include coevolution of a population of networks and parasites on the same grid. The fitness of a network is determined by the parasite located at its grid location, and vice versa. The evolving population of test cases provides increasing challenges to the evolving population of networks, forcing them to keep changing and discover new sorting strategies. The GA discovers correct networks with only 61 comparisons through coevolution, a real improvement over the best networks discovered without coevolution. The number of possible bit strings of length l is 2^l, and the number of possible subsets of strings is 2^(2^l). However, there are only 3^l possible schemas. A given bit string of length l is an instance of 2^l different schemas. The Schema Theorem, introduced by John Holland, is a mathematical result that describes the growth of a schema from one generation to the next in a genetic algorithm (GA). The theorem deals only with the destructive effects of crossover and mutation, and does not account for the constructive power of crossover in recombining instances of good schemas to form better ones. The Building Block Hypothesis, proposed by Goldberg, suggests that crossover is the major source of the GA's power, and that it works by recombining instances of good schemas to form better ones. Mutation in a GA provides an \"insurance policy\" against the loss of diversity at a given bit position, and prevents every string in the population from having the same value at that position. The Schema Theorem and the Building Block Hypothesis deal primarily with the roles of selection and crossover in GAs, and do not fully address the role of mutation.\n",
      "```\n",
      "\n",
      "---\n",
      "Summary:\n",
      "\n",
      "---\n",
      "Output:\n",
      "---\n"
     ]
    },
    {
     "data": {
      "text/plain": [
       "\"Genetic algorithms (GAs) are computational methods that simulate natural selection to solve complex problems. They utilize biological concepts such as chromosomes and genes to represent solutions and apply evolutionary principles like variation and selection. GAs can efficiently search through numerous possibilities by exploiting parallelism and adaptability. Hillis demonstrated that coevolution of networks and parasites within a GA can lead to more efficient solutions, as seen in the improved network sorting strategies. The Schema Theorem, by John Holland, explains how schemas (patterns within strings) propagate in GAs, focusing on the negative impacts of crossover and mutation. Goldberg's Building Block Hypothesis posits that the power of GAs comes from the crossover's ability to combine good schemas into better ones, while mutation maintains diversity and prevents uniformity across the population. Both concepts emphasize the importance of selection and crossover but do not fully explore mutation's role in GAs.\""
      ]
     },
     "metadata": {},
     "output_type": "display_data"
    }
   ],
   "source": [
    "gpt_input = prompt_3.format(text=text)\n",
    "print('---')\n",
    "print('Input:')\n",
    "print('---')\n",
    "print(gpt_input)\n",
    "\n",
    "res = gpt_client.chat.completions.create(\n",
    "  model=\"gpt-4-1106-preview\",\n",
    "  messages=[{'role': 'user', 'content': gpt_input}],\n",
    "  temperature=0,\n",
    "  max_tokens=1024,\n",
    "  top_p=0.6,\n",
    ")\n",
    "\n",
    "print('---')\n",
    "print('Output:')\n",
    "print('---')\n",
    "display(res.choices[0].message.content)"
   ]
  },
  {
   "cell_type": "code",
   "execution_count": 33,
   "metadata": {},
   "outputs": [
    {
     "name": "stdout",
     "output_type": "stream",
     "text": [
      "---\n",
      "Input:\n",
      "---\n",
      "[INST]\n",
      "Write a concise summary for text enclosed in triple backticks (```)\n",
      "\n",
      "```\n",
      "Genetic algorithms (GAs) are used to solve complex computational problems by mimicking the process of natural selection. GAs are often used to search through a vast number of possibilities for solutions, taking advantage of parallelism and adaptive strategies. The rules of evolution, such as random variation and natural selection, can inspire computational search methods for adaptive computer programs. The book uses biological terminology in the context of GAs, such as chromosomes, genes, genotype, and phenotype, to describe the entities and processes involved. Hillis modified a genetic algorithm (GA) system to include coevolution of a population of networks and parasites on the same grid. The fitness of a network is determined by the parasite located at its grid location, and vice versa. The evolving population of test cases provides increasing challenges to the evolving population of networks, forcing them to keep changing and discover new sorting strategies. The GA discovers correct networks with only 61 comparisons through coevolution, a real improvement over the best networks discovered without coevolution. The number of possible bit strings of length l is 2^l, and the number of possible subsets of strings is 2^(2^l). However, there are only 3^l possible schemas. A given bit string of length l is an instance of 2^l different schemas. The Schema Theorem, introduced by John Holland, is a mathematical result that describes the growth of a schema from one generation to the next in a genetic algorithm (GA). The theorem deals only with the destructive effects of crossover and mutation, and does not account for the constructive power of crossover in recombining instances of good schemas to form better ones. The Building Block Hypothesis, proposed by Goldberg, suggests that crossover is the major source of the GA's power, and that it works by recombining instances of good schemas to form better ones. Mutation in a GA provides an \"insurance policy\" against the loss of diversity at a given bit position, and prevents every string in the population from having the same value at that position. The Schema Theorem and the Building Block Hypothesis deal primarily with the roles of selection and crossover in GAs, and do not fully address the role of mutation.\n",
      "```\n",
      "\n",
      "---\n",
      "Summary:\n",
      "\n",
      "[/INST]\n",
      "---\n",
      "Output:\n",
      "---\n",
      "Genetic algorithms (GAs) are computational search methods that mimic natural\n",
      "selection, used to solve complex problems by exploring a vast solution space.\n",
      "Key concepts include chromosomes, genes, genotype, and phenotype. Coevolution of\n",
      "networks and parasites was found to improve the discovery of correct networks in\n",
      "a study by Hillis. The Schema Theorem and Building Block Hypothesis describe the\n",
      "roles of selection, crossover, and mutation in GAs, with the former focusing on\n",
      "the destructive effects of crossover and mutation, and the latter emphasizing\n",
      "the constructive power of crossover in recombining schemas. Mutation serves to\n",
      "maintain diversity in the population.\n"
     ]
    }
   ],
   "source": [
    "from textwrap import wrap\n",
    "\n",
    "mistral_prompt_0 = '''[INST]\n",
    "{original_prompt}\n",
    "[/INST]'''\n",
    "mistral_input = mistral_prompt_0.format(original_prompt=prompt_3.format(text=text))\n",
    "print('---')\n",
    "print('Input:')\n",
    "print('---')\n",
    "print(mistral_input)\n",
    "\n",
    "mistral_res = together_client.chat.completions.create(\n",
    "  model=\"mistralai/Mixtral-8x7B-Instruct-v0.1\",\n",
    "  messages=[{'role': 'user', 'content': mistral_input}],\n",
    "  temperature=0,\n",
    "  max_tokens=1024,\n",
    "  top_p=0.6,\n",
    ")\n",
    "\n",
    "print('---')\n",
    "print('Output:')\n",
    "print('---')\n",
    "print('\\n'.join(wrap(mistral_res.choices[0].message.content, 80)))"
   ]
  },
  {
   "cell_type": "code",
   "execution_count": 34,
   "metadata": {},
   "outputs": [
    {
     "name": "stdout",
     "output_type": "stream",
     "text": [
      "---\n",
      "Input:\n",
      "---\n",
      "[INST]\n",
      "Write a concise summary for text enclosed in triple backticks (```)\n",
      "\n",
      "```\n",
      "Genetic algorithms (GAs) are used to solve complex computational problems by mimicking the process of natural selection. GAs are often used to search through a vast number of possibilities for solutions, taking advantage of parallelism and adaptive strategies. The rules of evolution, such as random variation and natural selection, can inspire computational search methods for adaptive computer programs. The book uses biological terminology in the context of GAs, such as chromosomes, genes, genotype, and phenotype, to describe the entities and processes involved. Hillis modified a genetic algorithm (GA) system to include coevolution of a population of networks and parasites on the same grid. The fitness of a network is determined by the parasite located at its grid location, and vice versa. The evolving population of test cases provides increasing challenges to the evolving population of networks, forcing them to keep changing and discover new sorting strategies. The GA discovers correct networks with only 61 comparisons through coevolution, a real improvement over the best networks discovered without coevolution. The number of possible bit strings of length l is 2^l, and the number of possible subsets of strings is 2^(2^l). However, there are only 3^l possible schemas. A given bit string of length l is an instance of 2^l different schemas. The Schema Theorem, introduced by John Holland, is a mathematical result that describes the growth of a schema from one generation to the next in a genetic algorithm (GA). The theorem deals only with the destructive effects of crossover and mutation, and does not account for the constructive power of crossover in recombining instances of good schemas to form better ones. The Building Block Hypothesis, proposed by Goldberg, suggests that crossover is the major source of the GA's power, and that it works by recombining instances of good schemas to form better ones. Mutation in a GA provides an \"insurance policy\" against the loss of diversity at a given bit position, and prevents every string in the population from having the same value at that position. The Schema Theorem and the Building Block Hypothesis deal primarily with the roles of selection and crossover in GAs, and do not fully address the role of mutation.\n",
      "```\n",
      "\n",
      "---\n",
      "Summary:\n",
      "\n",
      "[/INST]\n",
      "---\n",
      "Output:\n",
      "---\n",
      "Genetic algorithms (GAs) are computational search methods that mimic natural\n",
      "selection, used to solve complex problems by exploring vast possibilities. They\n",
      "use biological terminology, with entities like chromosomes, genes, genotype, and\n",
      "phenotype. Coevolution of networks and parasites in GAs can discover correct\n",
      "networks with fewer comparisons. The Schema Theorem and Building Block\n",
      "Hypothesis describe the roles of selection, crossover, and mutation in GAs,\n",
      "focusing on how crossover recombines instances of good schemas and mutation\n",
      "maintains diversity.\n"
     ]
    }
   ],
   "source": [
    "from textwrap import wrap\n",
    "\n",
    "mistral_prompt_0 = '''[INST]\n",
    "{original_prompt}\n",
    "[/INST]'''\n",
    "mistral_input = mistral_prompt_0.format(original_prompt=prompt_3.format(text=text))\n",
    "print('---')\n",
    "print('Input:')\n",
    "print('---')\n",
    "print(mistral_input)\n",
    "\n",
    "mistral_res = together_client.chat.completions.create(\n",
    "  model=\"mistralai/Mixtral-8x7B-Instruct-v0.1\",\n",
    "  messages=[{'role': 'user', 'content': mistral_input}],\n",
    "  temperature=0.8,\n",
    "  max_tokens=1024,\n",
    "  top_p=0.8,\n",
    ")\n",
    "\n",
    "print('---')\n",
    "print('Output:')\n",
    "print('---')\n",
    "print('\\n'.join(wrap(mistral_res.choices[0].message.content, 80)))"
   ]
  },
  {
   "cell_type": "code",
   "execution_count": 35,
   "metadata": {},
   "outputs": [
    {
     "name": "stdout",
     "output_type": "stream",
     "text": [
      "---\n",
      "Input:\n",
      "---\n",
      "[INST]\n",
      "Write a concise summary for text enclosed in triple backticks (```)\n",
      "\n",
      "```\n",
      "Genetic algorithms (GAs) are used to solve complex computational problems by mimicking the process of natural selection. GAs are often used to search through a vast number of possibilities for solutions, taking advantage of parallelism and adaptive strategies. The rules of evolution, such as random variation and natural selection, can inspire computational search methods for adaptive computer programs. The book uses biological terminology in the context of GAs, such as chromosomes, genes, genotype, and phenotype, to describe the entities and processes involved. Hillis modified a genetic algorithm (GA) system to include coevolution of a population of networks and parasites on the same grid. The fitness of a network is determined by the parasite located at its grid location, and vice versa. The evolving population of test cases provides increasing challenges to the evolving population of networks, forcing them to keep changing and discover new sorting strategies. The GA discovers correct networks with only 61 comparisons through coevolution, a real improvement over the best networks discovered without coevolution. The number of possible bit strings of length l is 2^l, and the number of possible subsets of strings is 2^(2^l). However, there are only 3^l possible schemas. A given bit string of length l is an instance of 2^l different schemas. The Schema Theorem, introduced by John Holland, is a mathematical result that describes the growth of a schema from one generation to the next in a genetic algorithm (GA). The theorem deals only with the destructive effects of crossover and mutation, and does not account for the constructive power of crossover in recombining instances of good schemas to form better ones. The Building Block Hypothesis, proposed by Goldberg, suggests that crossover is the major source of the GA's power, and that it works by recombining instances of good schemas to form better ones. Mutation in a GA provides an \"insurance policy\" against the loss of diversity at a given bit position, and prevents every string in the population from having the same value at that position. The Schema Theorem and the Building Block Hypothesis deal primarily with the roles of selection and crossover in GAs, and do not fully address the role of mutation.\n",
      "```\n",
      "\n",
      "---\n",
      "Summary:\n",
      "\n",
      "[/INST]\n",
      "---\n",
      "Expert Input:\n",
      "---\n",
      "[INST]\n",
      "Below are 3 candidate summaries of the same text. Merge and refine them into a single summary.\n",
      "\n",
      "Summaries:\n",
      "Genetic Algorithms (GAs) are computational methods that mimic natural selection to solve complex problems. They are often used for searching through a vast number of possibilities, utilizing parallelism and adaptive strategies. Key terms from biology, such as chromosomes, genes, genotype, and phenotype, are used to describe the entities and processes in GAs. Coevolution of networks and parasites in a GA, as proposed by Hillis, results in the discovery of correct networks with a significant reduction in comparisons. The Schema Theorem and Building Block Hypothesis highlight the importance of schemas, selection, and crossover in GAs, while acknowledging that mutation plays a role in maintaining diversity.\n",
      "Genetic algorithms (GAs) are computational methods that mimic natural selection to solve complex problems. They are particularly useful for searching through large solution spaces, and can take advantage of parallelism and adaptive strategies. Key concepts in GAs include \"chromosomes,\" \"genes,\" \"genotype,\" and \"phenotype.\" Coevolution, as demonstrated by Hillis, involves the simultaneous evolution of populations of networks and parasites, with each affecting the fitness of the other. The Schema Theorem and Building Block Hypothesis describe the roles of selection, crossover, and mutation in GAs, with the former focusing on the destructive effects of crossover and mutation, and the latter emphasizing the constructive power of crossover in recombining schemas. Mutation serves to maintain diversity in the population.\n",
      "Genetic Algorithms (GAs) are computational problem-solving methods that mimic natural selection. They are used to search through a large number of possibilities for solutions, taking advantage of parallelism and adaptive strategies. Key terms from biology, such as chromosomes, genes, genotype, and phenotype, are used to describe the entities and processes involved. Coevolution of a population of networks and parasites in GAs can lead to the discovery of correct networks with a significant reduction in comparisons. The Schema Theorem and Building Block Hypothesis describe the roles of selection and crossover in GAs, while mutation acts as an \"insurance policy\" against the loss of diversity. The number of possible bit strings and subsets of strings grows exponentially, but the number of possible schemas grows only as a power of the string length.\n",
      "\n",
      "---\n",
      "Final Summary:\n",
      "[/INST]\n",
      "---\n",
      "Output:\n",
      "---\n",
      "Genetic Algorithms (GAs) are computational problem-solving methods that mimic\n",
      "natural selection to tackle complex issues, particularly useful in searching\n",
      "through large solution spaces by utilizing parallelism and adaptive strategies.\n",
      "They use key concepts from biology, such as \"chromosomes,\" \"genes,\" \"genotype,\"\n",
      "and \"phenotype.\" A notable demonstration of GA's potential is Hillis'\n",
      "coevolution model, where networks and parasites evolve simultaneously, impacting\n",
      "each other's fitness. The Schema Theorem and Building Block Hypothesis highlight\n",
      "the importance of selection, crossover, and mutation in GAs. The Schema Theorem\n",
      "emphasizes the destructive effects of crossover and mutation, while the Building\n",
      "Block Hypothesis underscores the constructive power of crossover in recombining\n",
      "schemas. Mutation plays a crucial role in maintaining diversity within the\n",
      "population, acting as an \"insurance policy\" against the loss of diversity. The\n",
      "number of possible bit strings and subsets of strings grows exponentially, but\n",
      "the number of possible schemas grows only as a power of the string length.\n",
      "Coevolution in GAs can lead to the discovery of correct networks with a\n",
      "significant reduction in comparisons.\n"
     ]
    }
   ],
   "source": [
    "from textwrap import wrap\n",
    "\n",
    "mistral_prompt_0 = '''[INST]\n",
    "{original_prompt}\n",
    "[/INST]'''\n",
    "mistral_input = mistral_prompt_0.format(original_prompt=prompt_3.format(text=text))\n",
    "print('---')\n",
    "print('Input:')\n",
    "print('---')\n",
    "print(mistral_input)\n",
    "\n",
    "candidate_answers = []\n",
    "for _ in range(3):\n",
    "  candidate_answers.append(together_client.chat.completions.create(\n",
    "    model=\"mistralai/Mixtral-8x7B-Instruct-v0.1\",\n",
    "    messages=[{'role': 'user', 'content': mistral_input}],\n",
    "    temperature=0.8,\n",
    "    max_tokens=1024,\n",
    "    top_p=0.8,\n",
    "  ))\n",
    "\n",
    "expert_prompt = (\n",
    "  '[INST]\\n'\n",
    "  'Below are 3 candidate summaries of the same text. Merge and refine them into a single summary.\\n'\n",
    "  '\\n'\n",
    "  'Summaries:\\n'\n",
    "  '{candidate_summaries}\\n'\n",
    "  '\\n'\n",
    "  '---\\n'\n",
    "  'Final Summary:\\n'\n",
    "  '[/INST]'\n",
    ")\n",
    "\n",
    "expert_input = expert_prompt.format(\n",
    "  candidate_summaries='\\n'.join([c.choices[0].message.content for c in candidate_answers])\n",
    ")\n",
    "\n",
    "print('---')\n",
    "print('Expert Input:')\n",
    "print('---')\n",
    "print(expert_input)\n",
    "\n",
    "expert_output = together_client.chat.completions.create(\n",
    "  model=\"mistralai/Mixtral-8x7B-Instruct-v0.1\",\n",
    "  messages=[{'role': 'user', 'content': expert_input}],\n",
    "  temperature=0.8,\n",
    "  max_tokens=1024,\n",
    "  top_p=0.8,\n",
    ")\n",
    "\n",
    "print('---')\n",
    "print('Output:')\n",
    "print('---')\n",
    "print('\\n'.join(wrap(expert_output.choices[0].message.content, 80)))"
   ]
  },
  {
   "cell_type": "code",
   "execution_count": null,
   "metadata": {},
   "outputs": [],
   "source": []
  }
 ],
 "metadata": {
  "kernelspec": {
   "display_name": "Python 3",
   "language": "python",
   "name": "python3"
  },
  "language_info": {
   "codemirror_mode": {
    "name": "ipython",
    "version": 3
   },
   "file_extension": ".py",
   "mimetype": "text/x-python",
   "name": "python",
   "nbconvert_exporter": "python",
   "pygments_lexer": "ipython3",
   "version": "3.11.6"
  }
 },
 "nbformat": 4,
 "nbformat_minor": 2
}
