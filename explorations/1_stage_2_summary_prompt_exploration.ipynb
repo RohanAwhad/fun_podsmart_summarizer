{
 "cells": [
  {
   "cell_type": "code",
   "execution_count": 2,
   "metadata": {},
   "outputs": [],
   "source": [
    "from openai import OpenAI\n",
    "import os"
   ]
  },
  {
   "cell_type": "code",
   "execution_count": 3,
   "metadata": {},
   "outputs": [],
   "source": [
    "gpt_client = OpenAI()\n",
    "together_client = OpenAI(\n",
    "  api_key=os.environ.get(\"TOGETHER_API_KEY\"),\n",
    "  base_url='https://api.together.xyz',\n",
    ")"
   ]
  },
  {
   "cell_type": "code",
   "execution_count": 4,
   "metadata": {},
   "outputs": [],
   "source": [
    "prompt_0 = '''Wite a 75-100 word summary of the following text:\n",
    "Genetic algorithms (GAs) are used to solve complex computational problems by mimicking the process of natural selection. GAs are often used to search through a vast number of possibilities for solutions, taking advantage of parallelism and adaptive strategies. The rules of evolution, such as random variation and natural selection, can inspire computational search methods for adaptive computer programs. The book uses biological terminology in the context of GAs, such as chromosomes, genes, genotype, and phenotype, to describe the entities and processes involved. Hillis modified a genetic algorithm (GA) system to include coevolution of a population of networks and parasites on the same grid. The fitness of a network is determined by the parasite located at its grid location, and vice versa. The evolving population of test cases provides increasing challenges to the evolving population of networks, forcing them to keep changing and discover new sorting strategies. The GA discovers correct networks with only 61 comparisons through coevolution, a real improvement over the best networks discovered without coevolution. The number of possible bit strings of length l is 2^l, and the number of possible subsets of strings is 2^(2^l). However, there are only 3^l possible schemas. A given bit string of length l is an instance of 2^l different schemas. The Schema Theorem, introduced by John Holland, is a mathematical result that describes the growth of a schema from one generation to the next in a genetic algorithm (GA). The theorem deals only with the destructive effects of crossover and mutation, and does not account for the constructive power of crossover in recombining instances of good schemas to form better ones. The Building Block Hypothesis, proposed by Goldberg, suggests that crossover is the major source of the GA's power, and that it works by recombining instances of good schemas to form better ones. Mutation in a GA provides an \"insurance policy\" against the loss of diversity at a given bit position, and prevents every string in the population from having the same value at that position. The Schema Theorem and the Building Block Hypothesis deal primarily with the roles of selection and crossover in GAs, and do not fully address the role of mutation.\n",
    "\n",
    "CONCISE SUMMARY:'''"
   ]
  },
  {
   "cell_type": "code",
   "execution_count": 6,
   "metadata": {},
   "outputs": [
    {
     "name": "stdout",
     "output_type": "stream",
     "text": [
      "---\n",
      "Input:\n",
      "---\n",
      "Wite a 75-100 word summary of the following text:\n",
      "Genetic algorithms (GAs) are used to solve complex computational problems by mimicking the process of natural selection. GAs are often used to search through a vast number of possibilities for solutions, taking advantage of parallelism and adaptive strategies. The rules of evolution, such as random variation and natural selection, can inspire computational search methods for adaptive computer programs. The book uses biological terminology in the context of GAs, such as chromosomes, genes, genotype, and phenotype, to describe the entities and processes involved. Hillis modified a genetic algorithm (GA) system to include coevolution of a population of networks and parasites on the same grid. The fitness of a network is determined by the parasite located at its grid location, and vice versa. The evolving population of test cases provides increasing challenges to the evolving population of networks, forcing them to keep changing and discover new sorting strategies. The GA discovers correct networks with only 61 comparisons through coevolution, a real improvement over the best networks discovered without coevolution. The number of possible bit strings of length l is 2^l, and the number of possible subsets of strings is 2^(2^l). However, there are only 3^l possible schemas. A given bit string of length l is an instance of 2^l different schemas. The Schema Theorem, introduced by John Holland, is a mathematical result that describes the growth of a schema from one generation to the next in a genetic algorithm (GA). The theorem deals only with the destructive effects of crossover and mutation, and does not account for the constructive power of crossover in recombining instances of good schemas to form better ones. The Building Block Hypothesis, proposed by Goldberg, suggests that crossover is the major source of the GA's power, and that it works by recombining instances of good schemas to form better ones. Mutation in a GA provides an \"insurance policy\" against the loss of diversity at a given bit position, and prevents every string in the population from having the same value at that position. The Schema Theorem and the Building Block Hypothesis deal primarily with the roles of selection and crossover in GAs, and do not fully address the role of mutation.\n",
      "\n",
      "CONCISE SUMMARY:\n",
      "---\n",
      "Output:\n",
      "---\n",
      "Genetic algorithms (GAs) are computational techniques that emulate natural selection to solve complex problems by exploring a multitude of potential solutions. They utilize biological concepts such as chromosomes and genes to evolve solutions, adapting over time. Hillis demonstrated the effectiveness of GAs through coevolution, where networks and parasites evolve together, leading to more efficient problem-solving. The Schema Theorem and Building Block Hypothesis explain the mechanics of GAs, highlighting the importance of crossover and mutation in maintaining diversity and combining good solutions to create better ones. Mutation acts as a safeguard against uniformity, ensuring a diverse pool of solutions.\n"
     ]
    }
   ],
   "source": [
    "print('---')\n",
    "print('Input:')\n",
    "print('---')\n",
    "print(prompt_0)\n",
    "\n",
    "res = gpt_client.chat.completions.create(\n",
    "  model=\"gpt-4-1106-preview\",\n",
    "  messages=[{'role': 'user', 'content': prompt_0}],\n",
    "  temperature=0.4,\n",
    "  max_tokens=1024,\n",
    "  top_p=0.6,\n",
    ")\n",
    "\n",
    "print('---')\n",
    "print('Output:')\n",
    "print('---')\n",
    "print(res.choices[0].message.content)"
   ]
  },
  {
   "cell_type": "code",
   "execution_count": 5,
   "metadata": {},
   "outputs": [
    {
     "name": "stdout",
     "output_type": "stream",
     "text": [
      "---\n",
      "Input:\n",
      "---\n",
      "<s> [INST]\n",
      "Wite a 75-100 word summary of the following text:\n",
      "Genetic algorithms (GAs) are used to solve complex computational problems by mimicking the process of natural selection. GAs are often used to search through a vast number of possibilities for solutions, taking advantage of parallelism and adaptive strategies. The rules of evolution, such as random variation and natural selection, can inspire computational search methods for adaptive computer programs. The book uses biological terminology in the context of GAs, such as chromosomes, genes, genotype, and phenotype, to describe the entities and processes involved. Hillis modified a genetic algorithm (GA) system to include coevolution of a population of networks and parasites on the same grid. The fitness of a network is determined by the parasite located at its grid location, and vice versa. The evolving population of test cases provides increasing challenges to the evolving population of networks, forcing them to keep changing and discover new sorting strategies. The GA discovers correct networks with only 61 comparisons through coevolution, a real improvement over the best networks discovered without coevolution. The number of possible bit strings of length l is 2^l, and the number of possible subsets of strings is 2^(2^l). However, there are only 3^l possible schemas. A given bit string of length l is an instance of 2^l different schemas. The Schema Theorem, introduced by John Holland, is a mathematical result that describes the growth of a schema from one generation to the next in a genetic algorithm (GA). The theorem deals only with the destructive effects of crossover and mutation, and does not account for the constructive power of crossover in recombining instances of good schemas to form better ones. The Building Block Hypothesis, proposed by Goldberg, suggests that crossover is the major source of the GA's power, and that it works by recombining instances of good schemas to form better ones. Mutation in a GA provides an \"insurance policy\" against the loss of diversity at a given bit position, and prevents every string in the population from having the same value at that position. The Schema Theorem and the Building Block Hypothesis deal primarily with the roles of selection and crossover in GAs, and do not fully address the role of mutation.\n",
      "\n",
      "CONCISE SUMMARY:\n",
      "[/INST]\n",
      "---\n",
      "Output:\n",
      "---\n",
      "Genetic Algorithms (GAs) are computational problem-solving methods that mimic natural selection. They are used to search through a vast number of possibilities, taking advantage of parallelism and adaptive strategies. The entities and processes in GAs are described using biological terminology such as chromosomes, genes, genotype, and phenotype. Coevolution of a population of networks and parasites was modified in a GA system by Hillis, which led to the discovery of correct networks with only 61 comparisons. The Schema Theorem and Building Block Hypothesis are two significant concepts in GAs, which describe the roles of selection, crossover, and mutation. However, these concepts primarily focus on selection and crossover and do not fully address the role of mutation.\n"
     ]
    }
   ],
   "source": [
    "mistral_prompt_0 = '''<s> [INST]\n",
    "{original_prompt}\n",
    "[/INST]'''\n",
    "mistral_prompt_0 = mistral_prompt_0.format(original_prompt=prompt_0)\n",
    "print('---')\n",
    "print('Input:')\n",
    "print('---')\n",
    "print(mistral_prompt_0)\n",
    "\n",
    "mistral_res = together_client.chat.completions.create(\n",
    "  model=\"mistralai/Mixtral-8x7B-Instruct-v0.1\",\n",
    "  messages=[{'role': 'user', 'content': mistral_prompt_0}],\n",
    "  temperature=0.4,\n",
    "  max_tokens=1024,\n",
    "  top_p=0.6,\n",
    ")\n",
    "\n",
    "print('---')\n",
    "print('Output:')\n",
    "print('---')\n",
    "print(mistral_res.choices[0].message.content)"
   ]
  },
  {
   "cell_type": "code",
   "execution_count": null,
   "metadata": {},
   "outputs": [],
   "source": []
  }
 ],
 "metadata": {
  "kernelspec": {
   "display_name": "Python 3",
   "language": "python",
   "name": "python3"
  },
  "language_info": {
   "codemirror_mode": {
    "name": "ipython",
    "version": 3
   },
   "file_extension": ".py",
   "mimetype": "text/x-python",
   "name": "python",
   "nbconvert_exporter": "python",
   "pygments_lexer": "ipython3",
   "version": "3.11.6"
  }
 },
 "nbformat": 4,
 "nbformat_minor": 2
}
